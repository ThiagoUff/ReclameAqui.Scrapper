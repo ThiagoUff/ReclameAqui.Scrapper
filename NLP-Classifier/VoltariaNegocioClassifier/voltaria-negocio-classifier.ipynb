{
 "cells": [
  {
   "cell_type": "code",
   "execution_count": null,
   "metadata": {},
   "outputs": [],
   "source": [
    "from transformers import AutoTokenizer, DataCollatorWithPadding, BertForPreTraining, TFBertModel\n",
    "from datasets import load_dataset\n",
    "\n",
    "import tensorflow as tf\n",
    "import evaluate\n",
    "import numpy as np\n",
    "import pandas as pd"
   ]
  }
 ],
 "metadata": {
  "language_info": {
   "name": "python"
  },
  "orig_nbformat": 4
 },
 "nbformat": 4,
 "nbformat_minor": 2
}
