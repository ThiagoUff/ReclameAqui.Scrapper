{
 "cells": [
  {
   "cell_type": "code",
   "execution_count": 1,
   "metadata": {},
   "outputs": [],
   "source": [
    "import pandas as pd\n",
    "import plotly.graph_objects as go\n",
    "\n",
    "from utils import filter_df"
   ]
  },
  {
   "cell_type": "code",
   "execution_count": 6,
   "metadata": {},
   "outputs": [],
   "source": [
    "import colorsys\n",
    "\n",
    "def ColorFromNote(nota):\n",
    "    if pd.isna(nota):\n",
    "        return '#979797'\n",
    "    rgb = colorsys.hsv_to_rgb(nota / 30., 1.0, 1.0)\n",
    "    return '#%02x%02x%02x' % (int(rgb[0]*255), int(rgb[1]*255), int(rgb[2]*255))"
   ]
  },
  {
   "cell_type": "code",
   "execution_count": 13,
   "metadata": {},
   "outputs": [],
   "source": [
    "geoDf = pd.read_excel(\"dataset/GeoReclameAqui.xlsx\")\n",
    "\n",
    "df22 = geoDf.loc[(geoDf['Data'] >= '2022-01-01')]\n",
    "df21 = geoDf.loc[(geoDf['Data'] >= '2021-01-01') & (geoDf['Data'] < '2022-01-01')]\n",
    "\n",
    "df22 = df22.groupby(['location_lat', 'location_long']).agg({'Id':'count', 'Nota': 'mean'}).reset_index()\n",
    "df22 = df22.groupby(['location_lat', 'location_long']).agg({'Id':'count', 'Nota': 'mean'}).reset_index()\n",
    "geoDf = geoDf.groupby(['location_lat', 'location_long','location_address']).agg({'Id':'count', 'Nota': 'mean'}).reset_index()\n",
    "\n",
    "geoDf['color'] = geoDf['Nota'].apply(lambda x: ColorFromNote(x))"
   ]
  },
  {
   "cell_type": "code",
   "execution_count": 14,
   "metadata": {},
   "outputs": [
    {
     "data": {
      "application/vnd.plotly.v1+json": {
       "config": {
        "plotlyServerURL": "https://plot.ly"
       },
       "data": [
        {
         "geo": "geo",
         "hovertemplate": "<b>%{hovertext}</b><br><br>color=#cbff00<br>Id=%{marker.size}<br>location_lat=%{lat}<br>location_long=%{lon}<extra></extra>",
         "hovertext": [
          "Olinda Bushland Reserve, Olinda, Melbourne, Shire of Yarra Ranges, Victoria, Australia"
         ],
         "lat": [
          -37.85863955
         ],
         "legendgroup": "#cbff00",
         "lon": [
          145.3766308435353
         ],
         "marker": {
          "color": "#636efa",
          "size": [
           11
          ],
          "sizemode": "area",
          "sizeref": 11.775,
          "symbol": "circle"
         },
         "mode": "markers",
         "name": "#cbff00",
         "showlegend": true,
         "type": "scattergeo"
        },
        {
         "geo": "geo",
         "hovertemplate": "<b>%{hovertext}</b><br><br>color=#979797<br>Id=%{marker.size}<br>location_lat=%{lat}<br>location_long=%{lon}<extra></extra>",
         "hovertext": [
          "Bagé, Região Geográfica Imediata de Bagé, Região Geográfica Intermediária de Pelotas, Rio Grande do Sul, Região Sul, Brasil",
          "São Gabriel, Região Geográfica Imediata de São Gabriel - Caçapava do Sul, Região Geográfica Intermediária de Santa Maria, Rio Grande do Sul, Região Sul, Brasil",
          "Alvorada, Região Geográfica Imediata de Porto Alegre, Região Metropolitana de Porto Alegre, Região Geográfica Intermediária de Porto Alegre, Rio Grande do Sul, Região Sul, Brasil",
          "Uruguaiana, Região Geográfica Imediata de Uruguaiana, Região Geográfica Intermediária de Uruguaiana, Rio Grande do Sul, Região Sul, Brasil",
          "São Leopoldo, Região Geográfica Imediata de Novo Hamburgo - São Leopoldo, Região Metropolitana de Porto Alegre, Região Geográfica Intermediária de Porto Alegre, Rio Grande do Sul, Região Sul, Brasil",
          "Campo Bom, Região Geográfica Imediata de Novo Hamburgo - São Leopoldo, Região Metropolitana de Porto Alegre, Região Geográfica Intermediária de Porto Alegre, Rio Grande do Sul, Região Sul, 93700-000, Brasil",
          "Ivoti, Região Geográfica Imediata de Novo Hamburgo - São Leopoldo, Região Metropolitana de Porto Alegre, Região Geográfica Intermediária de Porto Alegre, Rio Grande do Sul, Região Sul, 93900-000, Brasil",
          "Cruzeiro do Sul, Região Geográfica Imediata de Lajeado, Região Geográfica Intermediária de Santa Cruz do Sul - Lajeado, Rio Grande do Sul, Região Sul, 95930-970, Brasil",
          "Bento Gonçalves, Região Geográfica Imediata de Bento Gonçalves, Região Geográfica Intermediária de Caxias do Sul, Rio Grande do Sul, Região Sul, Brasil",
          "Forquilhinha, Região Geográfica Imediata de Criciúma, Região Geográfica Intermediária de Criciúma, Santa Catarina, Região Sul, 88850-000, Brasil",
          "Içara, Região Geográfica Imediata de Criciúma, Região Geográfica Intermediária de Criciúma, Santa Catarina, Região Sul, 88820-000, Brasil",
          "Tubarão, Região Geográfica Imediata de Tubarão, Região Geográfica Intermediária de Criciúma, Santa Catarina, Região Sul, Brasil",
          "Garopaba, Região Geográfica Imediata de Florianópolis, Região Geográfica Intermediária de Florianópolis, Santa Catarina, Região Sul, 88495-000, Brasil",
          "Sagrada Família, Região Geográfica Imediata de Palmeira das Missões, Região Geográfica Intermediária de Passo Fundo, Rio Grande do Sul, Região Sul, Brasil",
          "Florianópolis, Região Geográfica Imediata de Florianópolis, Região Geográfica Intermediária de Florianópolis, Santa Catarina, Região Sul, Brasil",
          "Pouso Redondo, Região Geográfica Imediata de Rio do Sul, Região Geográfica Intermediária de Blumenau, Santa Catarina, Região Sul, 89172-000, Brasil",
          "Blumenau, Região Geográfica Imediata de Blumenau, Região Geográfica Intermediária de Blumenau, Santa Catarina, Região Sul, Brasil",
          "Itajaí, Região Geográfica Imediata de Itajaí, Região Geográfica Intermediária de Blumenau, Santa Catarina, Região Sul, Brasil",
          "Jaraguá do Sul, Região Geográfica Imediata de Joinville, Região Geográfica Intermediária de Joinville, Santa Catarina, Região Sul, Brasil",
          "Canoinhas, Região Geográfica Imediata de Mafra, Região Geográfica Intermediária de Joinville, Santa Catarina, Região Sul, Brasil",
          "Francisco Beltrão, Região Geográfica Imediata de Francisco Beltrão, Região Geográfica Intermediária de Cascavel, Paraná, Região Sul, Brasil",
          "Ampére, Região Geográfica Imediata de Francisco Beltrão, Região Geográfica Intermediária de Cascavel, Paraná, Região Sul, Brasil",
          "Capanema, Região Geográfica Imediata de Francisco Beltrão, Região Geográfica Intermediária de Cascavel, Paraná, Região Sul, Brasil",
          "Colombo, Região Geográfica Imediata de Curitiba, Região Metropolitana de Curitiba, Região Geográfica Intermediária de Curitiba, Paraná, Região Sul, Brasil",
          "Cascavel, Região Geográfica Imediata de Cascavel, Região Geográfica Intermediária de Cascavel, Paraná, Região Sul, Brasil",
          "Jardim Alegre, Região Geográfica Imediata de Ivaiporã, Região Geográfica Intermediária de Londrina, Paraná, Região Sul, Brasil",
          "Praia Grande, Região Imediata de Santos, Região Metropolitana da Baixada Santista, Região Geográfica Intermediária de São Paulo, São Paulo, Região Sudeste, Brasil",
          "Guarujá, Região Imediata de Santos, Região Metropolitana da Baixada Santista, Região Geográfica Intermediária de São Paulo, São Paulo, Região Sudeste, Brasil",
          "Santos, Região Imediata de Santos, Região Metropolitana da Baixada Santista, Região Geográfica Intermediária de São Paulo, São Paulo, Região Sudeste, Brasil",
          "Cubatão, Região Imediata de Santos, Região Metropolitana da Baixada Santista, Região Geográfica Intermediária de São Paulo, São Paulo, Região Sudeste, Brasil",
          "São Lourenço da Serra, Região Imediata de São Paulo, Região Metropolitana de São Paulo, Região Geográfica Intermediária de São Paulo, São Paulo, Região Sudeste, Brasil",
          "Bertioga, Região Imediata de Santos, Região Metropolitana da Baixada Santista, Região Geográfica Intermediária de São Paulo, São Paulo, Região Sudeste, Brasil",
          "São Sebastião, Região Imediata de Caraguatatuba-Ubatuba-São Sebastião, Região Metropolitana do Vale do Paraíba e Litoral Norte, Região Geográfica Intermediária de São José dos Campos, São Paulo, Região Sudeste, Brasil",
          "Rio Grande da Serra, Região Imediata de São Paulo, Região Metropolitana de São Paulo, Região Geográfica Intermediária de São Paulo, São Paulo, Região Sudeste, Brasil",
          "Ribeirão Pires, Região Imediata de São Paulo, Região Metropolitana de São Paulo, Região Geográfica Intermediária de São Paulo, São Paulo, Região Sudeste, Brasil",
          "Embu das Artes, Região Imediata de São Paulo, Região Metropolitana de São Paulo, Região Geográfica Intermediária de São Paulo, São Paulo, Região Sudeste, Brasil",
          "São Caetano do Sul, Região Imediata de São Paulo, Região Metropolitana de São Paulo, Região Geográfica Intermediária de São Paulo, São Paulo, Região Sudeste, Brasil",
          "Taboão da Serra, Região Imediata de São Paulo, Região Metropolitana de São Paulo, Região Geográfica Intermediária de São Paulo, São Paulo, Região Sudeste, Brasil",
          "Cotia, Região Imediata de São Paulo, Região Metropolitana de São Paulo, Região Geográfica Intermediária de São Paulo, São Paulo, Região Sudeste, Brasil",
          "Vargem Grande Paulista, Região Imediata de São Paulo, Região Metropolitana de São Paulo, Região Geográfica Intermediária de São Paulo, São Paulo, Região Sudeste, Brasil",
          "José Bonifácio, São Paulo, Região Imediata de São Paulo, Região Metropolitana de São Paulo, Região Geográfica Intermediária de São Paulo, São Paulo, Região Sudeste, Brasil",
          "Itapevi, Região Imediata de São Paulo, Região Metropolitana de São Paulo, Região Geográfica Intermediária de São Paulo, São Paulo, Região Sudeste, Brasil",
          "Ferraz de Vasconcelos, Região Imediata de São Paulo, Região Metropolitana de São Paulo, Região Geográfica Intermediária de São Paulo, São Paulo, Região Sudeste, Brasil",
          "Votorantim, Região Imediata de Sorocaba, Região Metropolitana de Sorocaba, Região Geográfica Intermediária de Sorocaba, São Paulo, Região Sudeste, Brasil",
          "Jandira, Região Imediata de São Paulo, Região Metropolitana de São Paulo, Região Geográfica Intermediária de São Paulo, São Paulo, Região Sudeste, Brasil",
          "Carapicuíba, Região Imediata de São Paulo, Região Metropolitana de São Paulo, Região Geográfica Intermediária de São Paulo, São Paulo, Região Sudeste, Brasil",
          "Mogi das Cruzes, Região Imediata de São Paulo, Região Metropolitana de São Paulo, Região Geográfica Intermediária de São Paulo, São Paulo, Região Sudeste, Brasil",
          "Sorocaba, Região Imediata de Sorocaba, Região Metropolitana de Sorocaba, Região Geográfica Intermediária de Sorocaba, São Paulo, Região Sudeste, Brasil",
          "Itaquaquecetuba, Região Imediata de São Paulo, Região Metropolitana de São Paulo, Região Geográfica Intermediária de São Paulo, São Paulo, Região Sudeste, Brasil",
          "Santana de Parnaíba, Região Imediata de São Paulo, Região Metropolitana de São Paulo, Região Geográfica Intermediária de São Paulo, São Paulo, Região Sudeste, Brasil",
          "Ubatuba, Região Imediata de Caraguatatuba-Ubatuba-São Sebastião, Região Metropolitana do Vale do Paraíba e Litoral Norte, Região Geográfica Intermediária de São José dos Campos, São Paulo, Região Sudeste, Brasil",
          "Maringá, Região Geográfica Imediata de Maringá, Região Geográfica Intermediária de Maringá, Paraná, Região Sul, Brasil",
          "Arujá, Região Imediata de São Paulo, Região Metropolitana de São Paulo, Região Geográfica Intermediária de São Paulo, São Paulo, Região Sudeste, Brasil",
          "Caieiras, Região Imediata de São Paulo, Região Metropolitana de São Paulo, Região Geográfica Intermediária de São Paulo, São Paulo, Região Sudeste, Brasil",
          "Cajamar, Região Imediata de São Paulo, Região Metropolitana de São Paulo, Região Geográfica Intermediária de São Paulo, São Paulo, Região Sudeste, Brasil",
          "Londrina, Região Geográfica Imediata de Londrina, Região Geográfica Intermediária de Londrina, Paraná, Região Sul, Brasil",
          "São Luiz do Paraitinga, Região Imediata de Taubaté-Pindamonhangaba, Região Metropolitana do Vale do Paraíba e Litoral Norte, Região Geográfica Intermediária de São José dos Campos, São Paulo, Região Sudeste, 12140-000, Brasil",
          "Paraty, Região Geográfica Imediata de Angra dos Reis, Região Geográfica Intermediária do Rio de Janeiro, Rio de Janeiro, Região Sudeste, Brasil",
          "Salto, Região Imediata de Sorocaba, Região Metropolitana de Sorocaba, Região Geográfica Intermediária de Sorocaba, São Paulo, Região Sudeste, Brasil",
          "Jundiaí, Região Imediata de Jundiaí, Região Geográfica Intermediária de Campinas, São Paulo, Região Sudeste, Brasil",
          "São José dos Campos, Região Imediata de São José dos Campos, Região Metropolitana do Vale do Paraíba e Litoral Norte, Região Geográfica Intermediária de São José dos Campos, São Paulo, Região Sudeste, Brasil",
          "Arandu, Região Imediata de Avaré, Região Geográfica Intermediária de Sorocaba, São Paulo, Região Sudeste, 18710-000, Brasil",
          "Atibaia, Região Imediata de Bragança Paulista, Região Geográfica Intermediária de Campinas, São Paulo, Região Sudeste, Brasil",
          "Tietê, Região Imediata de Sorocaba, Região Metropolitana de Sorocaba, Região Geográfica Intermediária de Sorocaba, São Paulo, Região Sudeste, 18530-000, Brasil",
          "Indaiatuba, Região Imediata de Campinas, Região Metropolitana de Campinas, Região Geográfica Intermediária de Campinas, São Paulo, Região Sudeste, Brasil",
          "Louveira, Região Imediata de Jundiaí, Região Geográfica Intermediária de Campinas, São Paulo, Região Sudeste, 13290-000, Brasil",
          "Piracaia, Região Imediata de Bragança Paulista, Região Geográfica Intermediária de Campinas, São Paulo, Região Sudeste, 12970-000, Brasil",
          "Angra dos Reis, Região Geográfica Imediata de Angra dos Reis, Região Geográfica Intermediária do Rio de Janeiro, Rio de Janeiro, Região Sudeste, Brasil",
          "Mangaratiba, Região Geográfica Imediata do Rio de Janeiro, Região Geográfica Intermediária do Rio de Janeiro, Rio de Janeiro, Região Sudeste, 23860-000, Brasil",
          "Bragança Paulista, Região Imediata de Bragança Paulista, Região Geográfica Intermediária de Campinas, São Paulo, Região Sudeste, Brasil",
          "Monte Mor, Região Imediata de Campinas, Região Metropolitana de Campinas, Região Geográfica Intermediária de Campinas, São Paulo, Região Sudeste, 13197-362, Brasil",
          "Pindamonhangaba, Região Imediata de Taubaté-Pindamonhangaba, Região Metropolitana do Vale do Paraíba e Litoral Norte, Região Geográfica Intermediária de São José dos Campos, São Paulo, Região Sudeste, Brasil",
          "Saquarema, Região Geográfica Imediata do Rio de Janeiro, Região Geográfica Intermediária do Rio de Janeiro, Rio de Janeiro, Região Sudeste, Brasil",
          "Santa Cruz do Rio Pardo, Região Imediata de Ourinhos, Região Geográfica Intermediária de Marília, São Paulo, Região Sudeste, 18900-000, Brasil",
          "Marquês de Maricá, Maricá, Região Geográfica Imediata do Rio de Janeiro, Região Metropolitana do Rio de Janeiro, Região Geográfica Intermediária do Rio de Janeiro, Rio de Janeiro, Região Sudeste, Brasil",
          "Niterói, Região Geográfica Imediata do Rio de Janeiro, Região Metropolitana do Rio de Janeiro, Região Geográfica Intermediária do Rio de Janeiro, Rio de Janeiro, Região Sudeste, Brasil",
          "Botucatu, Região Imediata de Botucatu, Região Geográfica Intermediária de Bauru, São Paulo, Região Sudeste, Brasil",
          "Cabo Frio, Região Geográfica Imediata de Cabo Frio, Região Geográfica Intermediária de Macaé-Rio das Ostras-Cabo Frio, Rio de Janeiro, Região Sudeste, Brasil",
          "Araruama, Região Geográfica Imediata de Cabo Frio, Região Geográfica Intermediária de Macaé-Rio das Ostras-Cabo Frio, Rio de Janeiro, Região Sudeste, Brasil",
          "São Pedro da Aldeia, Região Geográfica Imediata de Cabo Frio, Região Geográfica Intermediária de Macaé-Rio das Ostras-Cabo Frio, Rio de Janeiro, Região Sudeste, 28941-408, Brasil",
          "Sumaré, Região Imediata de Campinas, Região Metropolitana de Campinas, Região Geográfica Intermediária de Campinas, São Paulo, Região Sudeste, Brasil",
          "Guaratinguetá, Região Imediata de Guaratinguetá, Região Metropolitana do Vale do Paraíba e Litoral Norte, Região Geográfica Intermediária de São José dos Campos, São Paulo, Região Sudeste, Brasil",
          "Itaboraí, Região Geográfica Imediata do Rio de Janeiro, Região Metropolitana do Rio de Janeiro, Região Geográfica Intermediária do Rio de Janeiro, Rio de Janeiro, Região Sudeste, Brasil",
          "São Pedro do Turvo, Região Imediata de Ourinhos, Região Geográfica Intermediária de Marília, São Paulo, Região Sudeste, Brasil",
          "Americana, Região Imediata de Campinas, Região Metropolitana de Campinas, Região Geográfica Intermediária de Campinas, São Paulo, Região Sudeste, Brasil",
          "São Manuel, Região Imediata de Botucatu, Região Geográfica Intermediária de Bauru, São Paulo, Região Sudeste, Brasil",
          "Piracicaba, Região Imediata de Piracicaba, Região Metropolitana de Piracicaba, Região Geográfica Intermediária de Campinas, São Paulo, Região Sudeste, Brasil",
          "Assis, Região Imediata de Assis, Região Geográfica Intermediária de Marília, São Paulo, Região Sudeste, Brasil",
          "Magé, Região Geográfica Imediata do Rio de Janeiro, Região Metropolitana do Rio de Janeiro, Região Geográfica Intermediária do Rio de Janeiro, Rio de Janeiro, Região Sudeste, Brasil",
          "São José do Barreiro, Região Imediata de Cruzeiro, Região Metropolitana do Vale do Paraíba e Litoral Norte, Região Geográfica Intermediária de São José dos Campos, São Paulo, Região Sudeste, 12830-000, Brasil",
          "Piquete, Região Imediata de Guaratinguetá, Região Metropolitana do Vale do Paraíba e Litoral Norte, Região Geográfica Intermediária de São José dos Campos, São Paulo, Região Sudeste, 12620-000, Brasil",
          "Serra Negra, Região Imediata de Amparo, Região Geográfica Intermediária de Campinas, São Paulo, Região Sudeste, 13930-000, Brasil",
          "Paracambi, Região Geográfica Imediata do Rio de Janeiro, Região Metropolitana do Rio de Janeiro, Região Geográfica Intermediária do Rio de Janeiro, Rio de Janeiro, Região Sudeste, Brasil",
          "Águas de São Pedro, Região Imediata de Piracicaba, Região Metropolitana de Piracicaba, Região Geográfica Intermediária de Campinas, São Paulo, Região Sudeste, Brasil",
          "Socorro, Região Imediata de Bragança Paulista, Região Geográfica Intermediária de Campinas, São Paulo, Região Sudeste, 13960-000, Brasil",
          "Cruzeiro, Região Imediata de Cruzeiro, Região Metropolitana do Vale do Paraíba e Litoral Norte, Região Geográfica Intermediária de São José dos Campos, São Paulo, Região Sudeste, Brasil",
          "São Pedro, Região Imediata de Piracicaba, Região Metropolitana de Piracicaba, Região Geográfica Intermediária de Campinas, São Paulo, Região Sudeste, 13520-000, Brasil",
          "Barra Mansa, Região Geográfica Imediata de Volta Redonda-Barra Mansa, Região Geográfica Intermediária de Volta Redonda-Barra Mansa, Rio de Janeiro, Região Sudeste, Brasil",
          "Rio das Ostras, Região Geográfica Imediata de Macaé-Rio das Ostras, Região Geográfica Intermediária de Macaé-Rio das Ostras-Cabo Frio, Rio de Janeiro, Região Sudeste, Brasil",
          "Petrópolis, Região Geográfica Imediata de Petrópolis, Região Metropolitana do Rio de Janeiro, Região Geográfica Intermediária de Petrópolis, Rio de Janeiro, Região Sudeste, Brasil",
          "Agudos, Região Imediata de Bauru, Região Geográfica Intermediária de Bauru, São Paulo, Região Sudeste, Brasil",
          "Águas de Lindóia, Região Imediata de Amparo, Região Geográfica Intermediária de Campinas, São Paulo, Região Sudeste, 13940-000, Brasil",
          "Resende, Região Geográfica Imediata de Resende, Região Geográfica Intermediária de Volta Redonda-Barra Mansa, Rio de Janeiro, Região Sudeste, Brasil",
          "Cachoeiras de Macacu, Região Geográfica Imediata de Rio Bonito, Região Metropolitana do Rio de Janeiro, Região Geográfica Intermediária do Rio de Janeiro, Rio de Janeiro, Região Sudeste, Brasil",
          "Teresópolis, Região Geográfica Imediata de Petrópolis, Região Geográfica Intermediária de Petrópolis, Rio de Janeiro, Região Sudeste, Brasil",
          "Rio Claro, Região Imediata de Rio Claro, Região Metropolitana de Piracicaba, Região Geográfica Intermediária de Campinas, São Paulo, Região Sudeste, Brasil",
          "Macaé, Região Geográfica Imediata de Macaé-Rio das Ostras, Região Geográfica Intermediária de Macaé-Rio das Ostras-Cabo Frio, Rio de Janeiro, Região Sudeste, Brasil",
          "Dois Córregos, Região Imediata de Jaú, Região Geográfica Intermediária de Bauru, São Paulo, Região Sudeste, Brasil",
          "Vera Cruz, Região Imediata de Marília, Região Geográfica Intermediária de Marília, São Paulo, Região Sudeste, Brasil",
          "Dourados, Região Geográfica Imediata de Dourados, Região Geográfica Intermediária de Dourados, Mato Grosso do Sul, Região Centro-Oeste, Brasil",
          "Marília, Região Imediata de Marília, Região Geográfica Intermediária de Marília, São Paulo, Região Sudeste, Brasil",
          "Pompeia, Região Imediata de Marília, Região Geográfica Intermediária de Marília, São Paulo, Região Sudeste, 17580-000, Brasil",
          "Arealva, Região Imediata de Bauru, Região Geográfica Intermediária de Bauru, São Paulo, Região Sudeste, 17160-000, Brasil",
          "São Carlos, Região Imediata de São Carlos, Região Geográfica Intermediária de Araraquara, São Paulo, Região Sudeste, Brasil",
          "Alfredo Marcondes, Região Imediata de Presidente Prudente, Região Geográfica Intermediária de Presidente Prudente, São Paulo, Região Sudeste, Brasil",
          "Águas da Prata, Região Imediata de São João da Boa Vista, Região Geográfica Intermediária de Campinas, São Paulo, Região Sudeste, 13890-000, Brasil",
          "Cambuquira, Região Geográfica Imediata de Três Corações, Região Geográfica Intermediária de Varginha, Minas Gerais, Região Sudeste, Brasil",
          "Poços de Caldas, Região Geográfica Imediata de Poços de Caldas, Região Geográfica Intermediária de Pouso Alegre, Minas Gerais, Região Sudeste, Brasil",
          "Araraquara, Região Imediata de Araraquara, Região Geográfica Intermediária de Araraquara, São Paulo, Região Sudeste, Brasil",
          "Juiz de Fora, Região Geográfica Imediata de Juiz de Fora, Região Geográfica Intermediária de Juiz de Fora, Minas Gerais, Região Sudeste, Brasil",
          "Campos dos Goytacazes, Região Geográfica Imediata de Campos dos Goytacazes, Região Geográfica Intermediária de Campos dos Goytacazes, Rio de Janeiro, Região Sudeste, Brasil",
          "Rinópolis, Região Imediata de Tupã, Região Geográfica Intermediária de Marília, São Paulo, Região Sudeste, 17740-000, Brasil",
          "Adamantina, Região Imediata de Adamantina-Lucélia, Região Geográfica Intermediária de Presidente Prudente, São Paulo, Região Sudeste, 17800-000, Brasil",
          "São Fidélis, Região Geográfica Imediata de Campos dos Goytacazes, Região Geográfica Intermediária de Campos dos Goytacazes, Rio de Janeiro, Região Sudeste, 28400-000, Brasil",
          "São Simão, Região Imediata de Ribeirão Preto, Região Metropolitana de Ribeirão Preto, Região Geográfica Intermediária de Ribeirão Preto, São Paulo, Região Sudeste, 14200-000, Brasil",
          "BR, Rodovia Afonso Celso, Centro, São Francisco do Itabapoana, São Francisco de Itabapoana, Região Geográfica Imediata de Campos dos Goytacazes, Região Geográfica Intermediária de Campos dos Goytacazes, Rio de Janeiro, Região Sudeste, 28230-000, Brasil",
          "Sabino, Região Imediata de Lins, Região Geográfica Intermediária de Bauru, São Paulo, Região Sudeste, Brasil",
          "Cataguases, Região Geográfica Imediata de Cataguases, Região Geográfica Intermediária de Juiz de Fora, Minas Gerais, Região Sudeste, Brasil",
          "Tabuleiro, Região Geográfica Imediata de Ubá, Região Geográfica Intermediária de Juiz de Fora, Minas Gerais, Região Sudeste, 36165-000, Brasil",
          "Birigui, Região Imediata de Birigui-Penápolis, Região Geográfica Intermediária de Araçatuba, São Paulo, Região Sudeste, Brasil",
          "Adolfo, Região Imediata de São José do Rio Preto, Região Metropolitana de São José do Rio Preto, Região Geográfica Intermediária de São José do Rio Preto, São Paulo, Região Sudeste, 15230-000, Brasil",
          "Barbacena, Região Geográfica Imediata de Barbacena, Região Geográfica Intermediária de Juiz de Fora, Minas Gerais, Região Sudeste, Brasil",
          "Araçatuba, Região Imediata de Araçatuba, Região Geográfica Intermediária de Araçatuba, São Paulo, Região Sudeste, Brasil",
          "Ribeirão Preto, Região Imediata de Ribeirão Preto, Região Metropolitana de Ribeirão Preto, Região Geográfica Intermediária de Ribeirão Preto, São Paulo, Região Sudeste, Brasil",
          "Catanduva, Região Imediata de Catanduva, Região Geográfica Intermediária de São José do Rio Preto, São Paulo, Região Sudeste, Brasil",
          "Mirandópolis, Região Imediata de Andradina, Região Geográfica Intermediária de Araçatuba, São Paulo, Região Sudeste, 16800-000, Brasil",
          "Jardinópolis, Região Imediata de Ribeirão Preto, Região Metropolitana de Ribeirão Preto, Região Geográfica Intermediária de Ribeirão Preto, São Paulo, Região Sudeste, 14680-000, Brasil",
          "São José do Rio Preto, Região Imediata de São José do Rio Preto, Região Metropolitana de São José do Rio Preto, Região Geográfica Intermediária de São José do Rio Preto, São Paulo, Região Sudeste, Brasil",
          "Viçosa, Região Geográfica Imediata de Viçosa, Região Geográfica Intermediária de Juiz de Fora, Minas Gerais, Região Sudeste, Brasil",
          "Nova Era, Viçosa, Região Geográfica Imediata de Viçosa, Região Geográfica Intermediária de Juiz de Fora, Minas Gerais, Região Sudeste, 36570-041, Brasil",
          "Jaborandi, Região Imediata de Barretos, Região Geográfica Intermediária de Ribeirão Preto, São Paulo, Região Sudeste, Brasil",
          "Franca, Região Imediata de Franca, Região Geográfica Intermediária de Ribeirão Preto, São Paulo, Região Sudeste, Brasil",
          "Campo Grande, Região Geográfica Imediata de Campo Grande, Região Geográfica Intermediária de Campo Grande, Mato Grosso do Sul, Região Centro-Oeste, Brasil",
          "Ituverava, Região Imediata de Ituverava, Região Geográfica Intermediária de Ribeirão Preto, São Paulo, Região Sudeste, 14500-000, Brasil",
          "Vila Velha, Região Geográfica Imediata de Vitória, Região Metropolitana da Grande Vitória, Região Geográfica Intermediária de Vitória, Espírito Santo, Região Sudeste, Brasil",
          "Vitória, Região Geográfica Imediata de Vitória, Região Metropolitana da Grande Vitória, Região Geográfica Intermediária de Vitória, Espírito Santo, Região Sudeste, Brasil",
          "Jales, Região Imediata de Jales, Região Geográfica Intermediária de São José do Rio Preto, São Paulo, Região Sudeste, Brasil",
          "Aspásia, Região Imediata de Jales, Região Geográfica Intermediária de São José do Rio Preto, São Paulo, Região Sudeste, Brasil",
          "Serra, Região Geográfica Imediata de Vitória, Região Metropolitana da Grande Vitória, Região Geográfica Intermediária de Vitória, Espírito Santo, Região Sudeste, Brasil",
          "Itaúna, Região Geográfica Imediata de Divinópolis, Região Geográfica Intermediária de Divinópolis, Minas Gerais, Região Sudeste, Brasil",
          "Ibirité, Região Geográfica Imediata de Belo Horizonte, Região Metropolitana de Belo Horizonte, Região Geográfica Intermediária de Belo Horizonte, Minas Gerais, Região Sudeste, Brasil",
          "Betim, Região Geográfica Imediata de Belo Horizonte, Região Metropolitana de Belo Horizonte, Região Geográfica Intermediária de Belo Horizonte, Minas Gerais, Região Sudeste, Brasil",
          "Uberaba, Região Geográfica Imediata de Uberaba, Região Geográfica Intermediária de Uberaba, Minas Gerais, Região Sudeste, Brasil",
          "Iturama, Região Geográfica Imediata de Iturama, Região Geográfica Intermediária de Uberaba, Minas Gerais, Região Sudeste, 38280-000, Brasil",
          "Colatina, Região Geográfica Imediata de Colatina, Região Geográfica Intermediária de Colatina, Espírito Santo, Região Sudeste, Brasil",
          "Corumbá, Região Geográfica Imediata de Corumbá, Região Geográfica Intermediária de Corumbá, Mato Grosso do Sul, Região Centro-Oeste, Brasil",
          "Uberlândia, Região Geográfica Imediata de Uberlândia, Região Geográfica Intermediária de Uberlândia, Minas Gerais, Região Sudeste, Brasil",
          "Governador Valadares, Região Geográfica Imediata de Governador Valadares, Região Geográfica Intermediária de Governador Valadares, Minas Gerais, Região Sudeste, Brasil",
          "Quirinópolis, Região Geográfica Imediata de Quirinópolis, Região Geográfica Intermediária de Rio Verde, Goiás, Região Centro-Oeste, Brasil",
          "Gouvelândia, Região Geográfica Imediata de Quirinópolis, Região Geográfica Intermediária de Rio Verde, Goiás, Região Centro-Oeste, Brasil",
          "Paulistas, Região Geográfica Imediata de Guanhães, Região Geográfica Intermediária de Governador Valadares, Minas Gerais, Região Sudeste, Brasil",
          "Itumbiara, Região Geográfica Imediata de Itumbiara, Região Geográfica Intermediária de Itumbiara, Goiás, Região Centro-Oeste, Brasil",
          "Serranópolis, Região Geográfica Imediata de Jataí-Mineiros, Região Geográfica Intermediária de Rio Verde, Goiás, Região Centro-Oeste, Brasil",
          "Bom Jesus de Goiás, Região Geográfica Imediata de Itumbiara, Região Geográfica Intermediária de Itumbiara, Goiás, Região Centro-Oeste, 75570-000, Brasil",
          "Água Limpa, Região Geográfica Imediata de Caldas Novas-Morrinhos, Região Geográfica Intermediária de Itumbiara, Goiás, Região Centro-Oeste, Brasil",
          "Nova Viçosa, Região Geográfica Imediata de Teixeira de Freitas, Região Geográfica Intermediária de Ilhéus-Itabuna, Bahia, Região Nordeste, Brasil",
          "Turvelândia, Região Geográfica Imediata de Rio Verde, Região Geográfica Intermediária de Rio Verde, Goiás, Região Centro-Oeste, Brasil",
          "Rio Verde, Região Geográfica Imediata de Rio Verde, Região Geográfica Intermediária de Rio Verde, Goiás, Região Centro-Oeste, Brasil",
          "Teixeira de Freitas, Região Geográfica Imediata de Teixeira de Freitas, Região Geográfica Intermediária de Ilhéus-Itabuna, Bahia, Região Nordeste, Brasil",
          "Montes Claros, Região Geográfica Imediata de Montes Claros, Região Geográfica Intermediária de Montes Claros, Minas Gerais, Região Sudeste, Brasil",
          "Senador Canedo, Região Geográfica Imediata de Goiânia, Região Geográfica Intermediária de Goiânia, Goiás, Região Centro-Oeste, Brasil",
          "Goianira, Região Geográfica Imediata de Goiânia, Região Geográfica Intermediária de Goiânia, Goiás, Região Centro-Oeste, 75370-000, Brasil",
          "Nerópolis, Região Geográfica Imediata de Goiânia, Região Geográfica Intermediária de Goiânia, Goiás, Região Centro-Oeste, Brasil",
          "Inhumas, Região Geográfica Imediata de Inhumas - Itaberaí - Anicuns, Região Geográfica Intermediária de Goiânia, Goiás, Região Centro-Oeste, 75400-000, Brasil",
          "Santa Cruz Cabrália, Região Geográfica Imediata de Eunápolis - Porto Seguro, Região Geográfica Intermediária de Ilhéus-Itabuna, Bahia, Região Nordeste, 45807-000, Brasil",
          "Luziânia, Região Geográfica Imediata de Luziânia, Região Integrada de Desenvolvimento do Distrito Federal e Entorno, Região Geográfica Intermediária de Luziânia-Águas Lindas de Goiás, Goiás, Região Centro-Oeste, Brasil",
          "Cidade Ocidental, Região Geográfica Imediata de Luziânia, Região Integrada de Desenvolvimento do Distrito Federal e Entorno, Região Geográfica Intermediária de Luziânia-Águas Lindas de Goiás, Goiás, Região Centro-Oeste, Brasil",
          "Goiás, Região Centro-Oeste, Brasil",
          "Barra do Garças, Região Geográfica Imediata de Barra do Garças, Região Geográfica Intermediária de Barra do Garças, Mato Grosso, Região Centro-Oeste, Brasil",
          "Várzea Grande, Região Geográfica Imediata de Cuiabá, Região Geográfica Intermediária de Cuiabá, Mato Grosso, Região Centro-Oeste, Brasil",
          "Cuiabá, Região Geográfica Imediata de Cuiabá, Região Geográfica Intermediária de Cuiabá, Mato Grosso, Região Centro-Oeste, Brasil",
          "São João do Paraíso, Região Geográfica Imediata de Salinas, Região Geográfica Intermediária de Montes Claros, Minas Gerais, Região Sudeste, Brasil",
          "Ceres, Região Geográfica Imediata de Ceres - Rialma - Goianésia, Região Geográfica Intermediária de Porangatu-Uruaçu, Goiás, Região Centro-Oeste, Brasil",
          "Tremedal, Região Geográfica Imediata de Vitória da Conquista, Região Geográfica Intermediária de Vitória da Conquista, Bahia, Região Nordeste, Brasil",
          "Condeúba, Região Geográfica Imediata de Vitória da Conquista, Região Geográfica Intermediária de Vitória da Conquista, Bahia, Região Nordeste, Brasil",
          "Itabuna, Região Geográfica Imediata de Ilhéus – Itabuna, Região Geográfica Intermediária de Ilhéus-Itabuna, Bahia, Região Nordeste, Brasil",
          "Ilhéus, Região Geográfica Imediata de Ilhéus – Itabuna, Região Geográfica Intermediária de Ilhéus-Itabuna, Bahia, Região Nordeste, Brasil",
          "Caculé, Região Geográfica Imediata de Guanambi, Região Geográfica Intermediária de Guanambi, Bahia, Região Nordeste, 46300-000, Brasil",
          "Niquelândia, Região Geográfica Imediata de Uruaçu - Niquelândia, Região Geográfica Intermediária de Porangatu-Uruaçu, Goiás, Região Centro-Oeste, 76420-000, Brasil",
          "Alto Paraíso de Goiás, Região Geográfica Imediata de Flores de Goiás, Região Geográfica Intermediária de Luziânia-Águas Lindas de Goiás, Goiás, Região Centro-Oeste, 73770-000, Brasil",
          "Minaçu, Região Geográfica Imediata de Porangatu, Região Geográfica Intermediária de Porangatu-Uruaçu, Goiás, Região Centro-Oeste, 76450-000, Brasil",
          "Brejões, Região Geográfica Imediata de Santo Antônio de Jesus, Região Geográfica Intermediária de Santo Antônio de Jesus, Bahia, Região Nordeste, Brasil",
          "Santo Antônio de Jesus, Região Geográfica Imediata de Santo Antônio de Jesus, Região Geográfica Intermediária de Santo Antônio de Jesus, Bahia, Região Nordeste, 44570-000, Brasil",
          "Simões Filho, Região Geográfica Imediata de Salvador, Região Metropolitana de Salvador, Região Geográfica Intermediária de Salvador, Bahia, Região Nordeste, 43700-000, Brasil",
          "Governador Mangabeira, Região Geográfica Imediata de Cruz das Almas, Região Geográfica Intermediária de Santo Antônio de Jesus, Bahia, Região Nordeste, 44350-000, Brasil",
          "Feira de Santana, Região Geográfica Imediata de Feira de Santana, Região Metropolitana de Feira de Santana, Região Geográfica Intermediária de Feira de Santana, Bahia, Região Nordeste, Brasil",
          "Alagoinhas, Região Geográfica Imediata de Alagoinhas, Região Geográfica Intermediária de Salvador, Bahia, Região Nordeste, Brasil",
          "Luís Eduardo Magalhães, Região Geográfica Imediata de Barreiras, Região Geográfica Intermediária de Barreiras, Bahia, Região Nordeste, Brasil",
          "Tobias Barreto, Região Geográfica Imediata de Lagarto, Região Geográfica Intermediária de Itabaiana, Sergipe, Região Nordeste, 49300-000, Brasil",
          "Aracaju, Região Geográfica Imediata de Aracaju, Região Geográfica Intermediária de Aracaju, Sergipe, Região Nordeste, Brasil",
          "Ji-Paraná, Região Geográfica Imediata de Ji-Paraná, Região Geográfica Intermediária de Ji-Paraná, Rondônia, Região Norte, Brasil",
          "Porto Nacional, Região Geográfica Imediata de Porto Nacional, Região Geográfica Intermediária de Palmas, Tocantins, Região Norte, 77500-000, Brasil",
          "Monte Santo, Região Geográfica Imediata de Euclides da Cunha, Região Geográfica Intermediária de Paulo Afonso, Bahia, Região Nordeste, Brasil",
          "Amparo de São Francisco, Amparo do São Francisco, Região Geográfica Imediata de Propriá, Região Geográfica Intermediária de Aracaju, Sergipe, Região Nordeste, Brasil",
          "Vila Rica, Região Geográfica Imediata de Confresa - Vila Rica, Região Geográfica Intermediária de Barra do Garças, Mato Grosso, Região Centro-Oeste, 78645-000, Brasil",
          "Rio Branco, Região Geográfica Imediata de Rio Branco, Região Geográfica Intermediária de Rio Branco, Acre, Região Norte, Brasil",
          "Maceió, Região Geográfica Imediata de Maceió, Região Geográfica Intermediária de Maceió, Alagoas, Região Nordeste, Brasil",
          "Paripueira, Região Geográfica Imediata de Maceió, Região Geográfica Intermediária de Maceió, Alagoas, Região Nordeste, Brasil",
          "Barreiros, Região Geográfica Imediata de Barreiros-Sirinhaém, Região Geográfica Intermediária do Recife, Pernambuco, Região Nordeste, 55560-000, Brasil",
          "Porto Velho, Região Geográfica Imediata de Porto Velho, Região Geográfica Intermediária de Porto Velho, Rondônia, Região Norte, Brasil",
          "Caruaru, Região Geográfica Imediata de Caruaru, Região Geográfica Intermediária de Caruaru, Pernambuco, Região Nordeste, Brasil",
          "Bezerros, Região Geográfica Imediata de Caruaru, Região Geográfica Intermediária de Caruaru, Pernambuco, Região Nordeste, 55660-000, Brasil",
          "Sertânia, Região Geográfica Imediata de Arcoverde, Região Geográfica Intermediária de Caruaru, Pernambuco, Região Nordeste, Brasil",
          "Camaragibe, Região Geográfica Imediata do Recife, Região Metropolitana do Recife, Região Geográfica Intermediária do Recife, Pernambuco, Região Nordeste, Brasil",
          "Serra Talhada, Região Geográfica Imediata de Serra Talhada, Região Geográfica Intermediária de Serra Talhada, Pernambuco, Região Nordeste, Brasil",
          "Paulista, Região Geográfica Imediata do Recife, Região Metropolitana do Recife, Região Geográfica Intermediária do Recife, Pernambuco, Região Nordeste, Brasil",
          "Goiana, Região Geográfica Imediata de Goiana-Timbaúba, Região Metropolitana do Recife, Região Geográfica Intermediária do Recife, Pernambuco, Região Nordeste, 55900-000, Brasil",
          "Bonito de Santa Fé, Região Geográfica Imediata de Cajazeiras, Região Metropolitana de Cajazeiras, Região Geográfica Intermediária de Sousa-Cajazeiras, Paraíba, Região Nordeste, Brasil",
          "Campina Grande, Região Geográfica Imediata de Campina Grande, Região Metropolitana de Campina Grande, Região Geográfica Intermediária de Campina Grande, Paraíba, Região Nordeste, Brasil",
          "Juazeiro do Norte, Região Geográfica Imediata de Juazeiro do Norte, Região Geográfica Intermediária de Juazeiro do Norte, Ceará, Região Nordeste, Brasil",
          "João Pessoa, Região Geográfica Imediata de João Pessoa, Região Metropolitana de João Pessoa, Região Geográfica Intermediária de João Pessoa, Paraíba, Região Nordeste, Brasil",
          "Areia, Região Geográfica Imediata de Campina Grande, Região Metropolitana de Esperança, Região Geográfica Intermediária de Campina Grande, Paraíba, Região Nordeste, 58397-000, Brasil",
          "Floriano, Região Geográfica Imediata de Floriano, Região Geográfica Intermediária de Floriano, Piauí, Região Nordeste, Brasil",
          "Parauapebas, Região Geográfica Imediata de Parauapebas, Região Geográfica Intermediária de Marabá, Pará, Região Norte, 68515-000, Brasil",
          "Parnamirim, Região Geográfica Imediata de Natal, Região Geográfica Intermediária de Natal, Rio Grande do Norte, Região Nordeste, Brasil",
          "Natal, Região Geográfica Imediata de Natal, Região Geográfica Intermediária de Natal, Rio Grande do Norte, Região Nordeste, Brasil",
          "Apodi, Região Geográfica Imediata de Mossoró, Região Geográfica Intermediária de Mossoró, Rio Grande do Norte, Região Nordeste, 59700-000, Brasil",
          "Marabá, Região Geográfica Imediata de Marabá, Região Geográfica Intermediária de Marabá, Pará, Região Norte, Brasil",
          "Mossoró, Região Geográfica Imediata de Mossoró, Região Geográfica Intermediária de Mossoró, Rio Grande do Norte, Região Nordeste, Brasil",
          "Teresina, Região Geográfica Imediata de Teresina, Região Integrada de Desenvolvimento da Grande Teresina, Região Geográfica Intermediária de Teresina, Piauí, Região Nordeste, Brasil",
          "José de Freitas, Região Geográfica Imediata de Teresina, Região Integrada de Desenvolvimento da Grande Teresina, Região Geográfica Intermediária de Teresina, Piauí, Região Nordeste, 64110-000, Brasil",
          "Codó, Região Geográfica Imediata de Codó, Região Geográfica Intermediária de Caxias, Maranhão, Região Nordeste, Brasil",
          "Ipu, Região Geográfica Imediata de São Benedito - Ipu - Guaraciaba do Norte - Tianguá, Região Geográfica Intermediária de Sobral, Ceará, Região Nordeste, 62250-000, Brasil",
          "Eusébio, Região Geográfica Imediata de Fortaleza, Região Geográfica Intermediária de Fortaleza, Ceará, Região Nordeste, Brasil",
          "Parque Nacional Marinho de Fernando de Noronha, Fernando de Noronha, Região Geográfica Imediata do Recife, Região Geográfica Intermediária do Recife, Pernambuco, Região Nordeste, 53990-000, Brasil",
          "Tucuruí, Região Geográfica Imediata de Tucuruí, Região Geográfica Intermediária de Marabá, Pará, Região Norte, Brasil",
          "Sobral, Região Geográfica Imediata de Sobral, Região Geográfica Intermediária de Sobral, Ceará, Região Nordeste, Brasil",
          "Parnaíba, Região Geográfica Imediata de Parnaíba, Região Geográfica Intermediária de Parnaíba, Piauí, Região Nordeste, Brasil",
          "Parintins, Região Geográfica Imediata de Parintins, Região Geográfica Intermediária de Parintins, Amazonas, Região Norte, Brasil",
          "São Luís, Região Geográfica Imediata de São Luís, Região Geográfica Intermediária de São Luís, Maranhão, Região Nordeste, Brasil",
          "Santarém, Região Geográfica Imediata de Santarém, Região Geográfica Intermediária de Santarém, Pará, Região Norte, Brasil",
          "Belém, Região Geográfica Imediata de Belém, Região Geográfica Intermediária de Belém, Pará, Região Norte, Brasil",
          "Boa Vista, Região Geográfica Imediata de Boa Vista, Região Geográfica Intermediária de Boa Vista, Roraima, Região Norte, Brasil",
          "Tabatinga bridge, Wind Milll Road, Wind Milll Rd, Ireng - Sawariwau, Upper Takutu-Upper Essequibo, Guyana",
          "Amajari, Região Geográfica Imediata de Pacaraima, Região Geográfica Intermediária de Boa Vista, Roraima, Região Norte, 69343-000, Brasil",
          "Santa Maria Bridge, Bagbaguin, Santa Maria, Bulacan, Central Luzon, 3014, Philippines"
         ],
         "lat": [
          -31.3314264,
          -30.334214,
          -29.9981184,
          -29.7560726,
          -29.7544405,
          -29.678418,
          -29.5934057,
          -29.5139742,
          -29.1654014,
          -28.7487602,
          -28.7116553,
          -28.471488,
          -28.0274798,
          -27.7085454,
          -27.5973002,
          -27.2567443,
          -26.9195567,
          -26.9046787,
          -26.4897432,
          -26.1755121,
          -26.0790979,
          -25.9168712,
          -25.6704878,
          -25.3094603,
          -24.9554996,
          -24.1795192,
          -24.005833,
          -23.9927768,
          -23.960833,
          -23.8857982,
          -23.8535923,
          -23.848568,
          -23.8027866,
          -23.743724,
          -23.7129388,
          -23.6495294,
          -23.6195923,
          -23.6121912,
          -23.603889,
          -23.599338,
          -23.5641145,
          -23.54888,
          -23.541056,
          -23.5383101,
          -23.5282246,
          -23.5234673,
          -23.5234284,
          -23.5003451,
          -23.4754492,
          -23.4446715,
          -23.433162,
          -23.425269,
          -23.396266,
          -23.3644621,
          -23.3561111,
          -23.3112878,
          -23.2220531,
          -23.2196461,
          -23.1989983,
          -23.1887668,
          -23.1860383,
          -23.1345103,
          -23.1177393,
          -23.1030302,
          -23.09028,
          -23.08639,
          -23.052545,
          -23.0063966,
          -22.9600193,
          -22.9520235,
          -22.945043,
          -22.9340165,
          -22.9257974,
          -22.9060715,
          -22.9059188,
          -22.8884,
          -22.8879628,
          -22.8804369,
          -22.8733203,
          -22.8384835,
          -22.8217964,
          -22.8057839,
          -22.7496231,
          -22.745286,
          -22.7392463,
          -22.732081,
          -22.72528,
          -22.6620892,
          -22.6604221,
          -22.6452376,
          -22.6138451,
          -22.61222,
          -22.6109158,
          -22.6000681,
          -22.5902619,
          -22.5783685,
          -22.5512765,
          -22.5394843,
          -22.5269448,
          -22.5075743,
          -22.4719836,
          -22.4718855,
          -22.4683626,
          -22.4626861,
          -22.4164578,
          -22.4100108,
          -22.3712958,
          -22.3697554,
          -22.2212638,
          -22.2206145,
          -22.217108,
          -22.1088293,
          -22.0301906,
          -22.0180395,
          -21.9527,
          -21.9464285,
          -21.853056,
          -21.7900318,
          -21.7886713,
          -21.7609533,
          -21.7558619,
          -21.728308,
          -21.6866517,
          -21.6482101,
          -21.4800208,
          -21.47341135,
          -21.4598472,
          -21.387426,
          -21.3592212,
          -21.2908491,
          -21.2356597,
          -21.2254524,
          -21.207992,
          -21.178333,
          -21.1331035,
          -21.1328313,
          -21.0255126,
          -20.8125851,
          -20.7538586,
          -20.7426124,
          -20.6921079,
          -20.5381768,
          -20.4640173,
          -20.3366604,
          -20.3297037,
          -20.3200917,
          -20.2671767,
          -20.1596604,
          -20.1252961,
          -20.075556,
          -20.0214251,
          -19.968056,
          -19.750833,
          -19.7272733,
          -19.5346732,
          -19.0016365,
          -18.9188041,
          -18.8539497,
          -18.4471859,
          -18.4425949,
          -18.4268235,
          -18.4135862,
          -18.3084565,
          -18.2174587,
          -18.0755648,
          -17.8907712,
          -17.8510524,
          -17.7921255,
          -17.5376644,
          -16.7273538,
          -16.7013233,
          -16.5001973,
          -16.4069816,
          -16.3610569,
          -16.2815556,
          -16.2535456,
          -16.1000758,
          -15.9323662,
          -15.8916033,
          -15.645816,
          -15.5986686,
          -15.3171214,
          -15.3103568,
          -14.9772387,
          -14.902227,
          -14.7935179,
          -14.792599,
          -14.4990734,
          -14.4648655,
          -14.1304779,
          -13.5336413,
          -13.1033754,
          -12.9689361,
          -12.7867839,
          -12.6038648,
          -12.2578934,
          -12.133526,
          -12.0869117,
          -11.1878721,
          -10.9162061,
          -10.8778148,
          -10.7019786,
          -10.4382898,
          -10.2002447,
          -10.013666,
          -9.9765362,
          -9.6476843,
          -9.463133,
          -8.8159644,
          -8.7494525,
          -8.2829702,
          -8.2372132,
          -8.068467,
          -8.0213832,
          -7.9867805,
          -7.9340069,
          -7.560603,
          -7.3143332,
          -7.2246743,
          -7.2153453,
          -7.1215981,
          -6.9680243,
          -6.7726534,
          -6.0696846,
          -5.9153334,
          -5.805398,
          -5.6631109,
          -5.3462821,
          -5.1904332,
          -5.0896403,
          -4.7578357,
          -4.455623,
          -4.3239824,
          -3.8889838,
          -3.8545643,
          -3.7738509,
          -3.6879135,
          -2.9147515,
          -2.6344567,
          -2.5295265,
          -2.438489,
          -1.45056,
          2.8208478,
          3.3795666,
          3.6523869,
          14.8177628
         ],
         "legendgroup": "#979797",
         "lon": [
          -54.1062808,
          -54.3227149,
          -51.0772509,
          -57.0867546,
          -51.1516497,
          -51.0572268,
          -51.1599403,
          -51.9917068,
          -51.5197627,
          -49.4737661,
          -49.2971441,
          -49.014132,
          -48.6240197,
          -53.1364113,
          -48.5496098,
          -49.9331593,
          -49.0658025,
          -48.6552979,
          -49.0778063,
          -50.3949592,
          -53.0533527,
          -53.4742414,
          -53.8083036,
          -49.18507242898573,
          -53.4560544,
          -51.6927177,
          -46.402778,
          -46.2558332,
          -46.333889,
          -46.4241869,
          -46.9440587,
          -46.139586,
          -45.4070527,
          -46.397084,
          -46.4150871,
          -46.8528497,
          -46.5688323,
          -46.7790539,
          -46.918889,
          -47.022038,
          -46.43473669552859,
          -46.933889,
          -46.37097,
          -47.4422496,
          -46.902003,
          -46.8406808,
          -46.1926671,
          -47.4582864,
          -46.3514033,
          -46.9167722,
          -45.083415,
          -51.9382078,
          -46.3175449,
          -46.7484765,
          -46.8769444,
          -51.1595023,
          -45.3108444,
          -44.7154196,
          -47.2913682,
          -46.884506,
          -45.8866816,
          -49.0545651,
          -46.5547861,
          -47.7147937,
          -47.21806,
          -46.95056,
          -46.359374,
          -44.316326,
          -44.04111,
          -46.5418586,
          -47.312182,
          -45.462938,
          -42.507633,
          -49.6277378,
          -42.7926326,
          -43.1147,
          -48.4410712,
          -42.0189227,
          -42.3428897,
          -42.1031604,
          -47.267105,
          -45.1908926,
          -42.8557428,
          -49.742829,
          -47.3306032,
          -48.572316,
          -47.64917,
          -50.420623,
          -43.0426162,
          -44.5805246,
          -45.1777096,
          -46.70056,
          -43.7096912,
          -47.8750887,
          -46.5249112,
          -44.9642044,
          -47.9072359,
          -44.1735129,
          -41.944972,
          -43.1785356,
          -48.9884476,
          -46.6291034,
          -44.4463494,
          -42.6534414,
          -42.975194,
          -47.5603933,
          -41.7866922,
          -48.3845315,
          -49.8243021,
          -54.812208,
          -49.95006,
          -50.1720753,
          -48.9111936,
          -47.891154,
          -51.413956,
          -46.7192121,
          -45.2953619,
          -46.5647928,
          -48.1773096,
          -43.3501129,
          -41.3326895,
          -50.7226134,
          -51.0762975,
          -41.7480548,
          -47.5531095,
          -41.11946621870648,
          -49.5776811,
          -42.6957219,
          -43.2479134,
          -50.34144,
          -49.6441918,
          -43.7735087,
          -50.4390225,
          -47.8066671,
          -48.9712817,
          -51.1029422,
          -47.7706807,
          -49.3804212,
          -42.8815888,
          -42.8807584,
          -48.4144076,
          -47.4009795,
          -54.6162947,
          -47.7797924,
          -40.2920174,
          -40.3376682,
          -50.5492435,
          -50.7279226,
          -40.3064477,
          -44.576389,
          -44.0621506,
          -44.198333,
          -47.936666,
          -50.193488,
          -40.6287836,
          -57.6534316,
          -48.2767837,
          -41.9458753,
          -50.4546981,
          -50.1365172,
          -42.8689535,
          -49.2172596,
          -51.9569462,
          -49.739721,
          -48.7620637,
          -39.3725471,
          -50.3051683,
          -50.9191219,
          -39.7458096,
          -43.8717676,
          -49.0914921,
          -49.4254788,
          -49.219438,
          -49.500111,
          -39.0239196,
          -47.9500276,
          -47.9445014,
          -50.1392928,
          -52.2615413,
          -56.132218,
          -56.0991301,
          -42.01678,
          -49.6032054,
          -41.4110979,
          -41.971829,
          -39.274318,
          -39.0453843,
          -42.2233006,
          -48.4572244,
          -47.5100161,
          -48.2184889,
          -39.7909837,
          -39.260914,
          -38.4030365,
          -39.0372154,
          -38.9598047,
          -38.420772,
          -45.7834163,
          -38.0030397,
          -37.0774655,
          -61.9277854,
          -48.4110952,
          -39.3304065,
          -36.93251519749188,
          -51.118599,
          -67.8220778,
          -35.7339264,
          -35.551977,
          -35.1831905,
          -63.8735438,
          -35.9722852,
          -35.7558262,
          -37.268393,
          -34.9810768,
          -38.2920294,
          -34.868407,
          -34.99591,
          -38.5146677,
          -35.8771292,
          -39.3153336,
          -34.882028,
          -35.6994783,
          -43.0070616,
          -49.8903283,
          -35.2679913,
          -35.2080905,
          -37.796927,
          -49.1007401,
          -37.3443872,
          -42.809588,
          -42.5763777,
          -43.892354,
          -40.7097463,
          -38.4546585,
          -32.37861623300567,
          -49.6708204,
          -40.3456372,
          -41.7661953,
          -56.7319324,
          -44.2963942,
          -54.699611,
          -48.4682453,
          -60.6719582,
          -59.8022606,
          -61.4194315,
          120.9590646
         ],
         "marker": {
          "color": "#EF553B",
          "size": [
           1,
           1,
           1,
           1,
           1,
           1,
           1,
           1,
           1,
           1,
           2,
           1,
           1,
           1,
           3,
           1,
           1,
           1,
           1,
           1,
           1,
           1,
           1,
           2,
           1,
           1,
           1,
           2,
           7,
           1,
           2,
           1,
           2,
           1,
           1,
           9,
           9,
           12,
           5,
           2,
           1,
           1,
           3,
           1,
           2,
           5,
           8,
           5,
           4,
           1,
           1,
           2,
           2,
           1,
           1,
           1,
           1,
           1,
           1,
           5,
           3,
           1,
           2,
           1,
           1,
           2,
           1,
           3,
           2,
           1,
           1,
           1,
           3,
           1,
           2,
           8,
           1,
           1,
           1,
           1,
           2,
           2,
           1,
           1,
           3,
           1,
           1,
           1,
           2,
           1,
           1,
           1,
           1,
           1,
           1,
           1,
           12,
           1,
           3,
           1,
           1,
           2,
           1,
           1,
           1,
           1,
           4,
           1,
           1,
           1,
           2,
           1,
           1,
           1,
           1,
           3,
           1,
           1,
           1,
           1,
           1,
           1,
           5,
           1,
           1,
           1,
           1,
           1,
           1,
           1,
           4,
           1,
           3,
           5,
           1,
           1,
           1,
           2,
           1,
           1,
           1,
           3,
           4,
           1,
           5,
           1,
           2,
           2,
           1,
           1,
           1,
           7,
           3,
           1,
           1,
           1,
           4,
           1,
           2,
           1,
           1,
           1,
           1,
           1,
           1,
           1,
           1,
           2,
           1,
           2,
           1,
           2,
           1,
           1,
           1,
           1,
           1,
           2,
           1,
           1,
           3,
           1,
           1,
           2,
           1,
           1,
           3,
           1,
           1,
           1,
           1,
           1,
           1,
           2,
           1,
           20,
           1,
           1,
           1,
           3,
           1,
           1,
           1,
           1,
           1,
           6,
           3,
           1,
           1,
           4,
           1,
           1,
           1,
           1,
           1,
           15,
           1,
           1,
           1,
           2,
           2,
           1,
           1,
           1,
           2,
           3,
           1,
           1,
           1,
           2,
           1,
           1,
           1,
           1,
           1,
           1,
           1,
           1,
           1,
           4,
           1,
           8,
           1,
           1,
           1,
           4
          ],
          "sizemode": "area",
          "sizeref": 11.775,
          "symbol": "circle"
         },
         "mode": "markers",
         "name": "#979797",
         "showlegend": true,
         "type": "scattergeo"
        },
        {
         "geo": "geo",
         "hovertemplate": "<b>%{hovertext}</b><br><br>color=#00ff00<br>Id=%{marker.size}<br>location_lat=%{lat}<br>location_long=%{lon}<extra></extra>",
         "hovertext": [
          "Porto Alegre, Região Geográfica Imediata de Porto Alegre, Região Metropolitana de Porto Alegre, Região Geográfica Intermediária de Porto Alegre, Rio Grande do Sul, Região Sul, Brasil",
          "Osório, Região Geográfica Imediata de Tramandaí - Osório, Aglomeração Urbana do Litoral Norte, Região Geográfica Intermediária de Porto Alegre, Rio Grande do Sul, Região Sul, 95520-000, Brasil",
          "Joinville, Região Geográfica Imediata de Joinville, Região Geográfica Intermediária de Joinville, Santa Catarina, Região Sul, Brasil",
          "Curitiba, Região Geográfica Imediata de Curitiba, Região Metropolitana de Curitiba, Região Geográfica Intermediária de Curitiba, Paraná, Região Sul, Brasil",
          "Mauá, Região Imediata de São Paulo, Região Metropolitana de São Paulo, Região Geográfica Intermediária de São Paulo, São Paulo, Região Sudeste, Brasil",
          "Osasco, Região Imediata de São Paulo, Região Metropolitana de São Paulo, Região Geográfica Intermediária de São Paulo, São Paulo, Região Sudeste, Brasil",
          "São Roque, Região Imediata de Sorocaba, Região Metropolitana de Sorocaba, Região Geográfica Intermediária de Sorocaba, São Paulo, Região Sudeste, Brasil",
          "Francisco Morato, Região Imediata de São Paulo, Região Metropolitana de São Paulo, Região Geográfica Intermediária de São Paulo, São Paulo, Região Sudeste, Brasil",
          "Bauru, Região Imediata de Bauru, Região Geográfica Intermediária de Bauru, São Paulo, Região Sudeste, Brasil",
          "Aparecida de Goiânia, Região Geográfica Imediata de Goiânia, Região Geográfica Intermediária de Goiânia, Goiás, Região Centro-Oeste, Brasil"
         ],
         "lat": [
          -30.0324999,
          -29.8890733,
          -26.3044898,
          -25.4295963,
          -23.6669527,
          -23.5324859,
          -23.5304843,
          -23.2817308,
          -22.3218102,
          -16.8226769
         ],
         "legendgroup": "#00ff00",
         "lon": [
          -51.2303767,
          -50.2740498,
          -48.8486726,
          -49.2712724,
          -46.4616922,
          -46.7916801,
          -47.1355473,
          -46.7448996,
          -49.0705863,
          -49.2452546
         ],
         "marker": {
          "color": "#00cc96",
          "size": [
           95,
           1,
           5,
           21,
           61,
           20,
           5,
           49,
           1,
           35
          ],
          "sizemode": "area",
          "sizeref": 11.775,
          "symbol": "circle"
         },
         "mode": "markers",
         "name": "#00ff00",
         "showlegend": true,
         "type": "scattergeo"
        },
        {
         "geo": "geo",
         "hovertemplate": "<b>%{hovertext}</b><br><br>color=#ff9900<br>Id=%{marker.size}<br>location_lat=%{lat}<br>location_long=%{lon}<extra></extra>",
         "hovertext": [
          "Santa Cruz do Sul, Região Geográfica Imediata de Santa Cruz do Sul, Região Geográfica Intermediária de Santa Cruz do Sul - Lajeado, Rio Grande do Sul, Região Sul, Brasil"
         ],
         "lat": [
          -29.7141869
         ],
         "legendgroup": "#ff9900",
         "lon": [
          -52.4285914
         ],
         "marker": {
          "color": "#ab63fa",
          "size": [
           1
          ],
          "sizemode": "area",
          "sizeref": 11.775,
          "symbol": "circle"
         },
         "mode": "markers",
         "name": "#ff9900",
         "showlegend": true,
         "type": "scattergeo"
        },
        {
         "geo": "geo",
         "hovertemplate": "<b>%{hovertext}</b><br><br>color=#33ff00<br>Id=%{marker.size}<br>location_lat=%{lat}<br>location_long=%{lon}<extra></extra>",
         "hovertext": [
          "São Vicente, Região Imediata de Santos, Região Metropolitana da Baixada Santista, Região Geográfica Intermediária de São Paulo, São Paulo, Região Sudeste, Brasil",
          "Franco da Rocha, Região Imediata de São Paulo, Região Metropolitana de São Paulo, Região Geográfica Intermediária de São Paulo, São Paulo, Região Sudeste, Brasil",
          "São Gonçalo, Região Geográfica Imediata do Rio de Janeiro, Região Metropolitana do Rio de Janeiro, Região Geográfica Intermediária do Rio de Janeiro, Rio de Janeiro, Região Sudeste, Brasil",
          "São João de Meriti, Região Geográfica Imediata do Rio de Janeiro, Região Metropolitana do Rio de Janeiro, Região Geográfica Intermediária do Rio de Janeiro, Rio de Janeiro, Região Sudeste, Brasil",
          "Belo Horizonte, Região Geográfica Imediata de Belo Horizonte, Região Metropolitana de Belo Horizonte, Região Geográfica Intermediária de Belo Horizonte, Minas Gerais, Região Sudeste, Brasil",
          "Jaboatão dos Guararapes, Região Geográfica Imediata do Recife, Região Metropolitana do Recife, Região Geográfica Intermediária do Recife, Pernambuco, Região Nordeste, Brasil"
         ],
         "lat": [
          -23.9603686,
          -23.3328038,
          -22.8219014,
          -22.8043744,
          -19.9227318,
          -8.1752476
         ],
         "legendgroup": "#33ff00",
         "lon": [
          -46.3847024,
          -46.724446,
          -43.0309252,
          -43.3724125,
          -43.9450948,
          -34.9468716
         ],
         "marker": {
          "color": "#FFA15A",
          "size": [
           4,
           82,
           60,
           63,
           59,
           18
          ],
          "sizemode": "area",
          "sizeref": 11.775,
          "symbol": "circle"
         },
         "mode": "markers",
         "name": "#33ff00",
         "showlegend": true,
         "type": "scattergeo"
        },
        {
         "geo": "geo",
         "hovertemplate": "<b>%{hovertext}</b><br><br>color=#ffff00<br>Id=%{marker.size}<br>location_lat=%{lat}<br>location_long=%{lon}<extra></extra>",
         "hovertext": [
          "Itapecerica da Serra, Região Imediata de São Paulo, Região Metropolitana de São Paulo, Região Geográfica Intermediária de São Paulo, São Paulo, Região Sudeste, Brasil",
          "Mairiporã, Região Imediata de São Paulo, Região Metropolitana de São Paulo, Região Geográfica Intermediária de São Paulo, São Paulo, Região Sudeste, Brasil",
          "Campinas, Região Imediata de Campinas, Região Metropolitana de Campinas, Região Geográfica Intermediária de Campinas, São Paulo, Região Sudeste, Brasil",
          "Contagem, Região Geográfica Imediata de Belo Horizonte, Região Metropolitana de Belo Horizonte, Região Geográfica Intermediária de Belo Horizonte, Minas Gerais, Região Sudeste, Brasil",
          "Fortaleza, Região Geográfica Imediata de Fortaleza, Região Geográfica Intermediária de Fortaleza, Ceará, Região Nordeste, Brasil"
         ],
         "lat": [
          -23.7176303,
          -23.3186111,
          -22.90556,
          -19.9132749,
          -3.7304512
         ],
         "legendgroup": "#ffff00",
         "lon": [
          -46.8492435,
          -46.5866667,
          -47.06083,
          -44.0840953,
          -38.5217989
         ],
         "marker": {
          "color": "#19d3f3",
          "size": [
           8,
           3,
           15,
           39,
           18
          ],
          "sizemode": "area",
          "sizeref": 11.775,
          "symbol": "circle"
         },
         "mode": "markers",
         "name": "#ffff00",
         "showlegend": true,
         "type": "scattergeo"
        },
        {
         "geo": "geo",
         "hovertemplate": "<b>%{hovertext}</b><br><br>color=#ff0000<br>Id=%{marker.size}<br>location_lat=%{lat}<br>location_long=%{lon}<extra></extra>",
         "hovertext": [
          "São Bernardo do Campo, Região Imediata de São Paulo, Região Metropolitana de São Paulo, Região Geográfica Intermediária de São Paulo, São Paulo, Região Sudeste, Brasil",
          "Belford Roxo, Região Geográfica Imediata do Rio de Janeiro, Região Metropolitana do Rio de Janeiro, Região Geográfica Intermediária do Rio de Janeiro, Rio de Janeiro, Região Sudeste, Brasil",
          "Barra Bonita, Região Imediata de Jaú, Região Geográfica Intermediária de Bauru, São Paulo, Região Sudeste, Brasil",
          "Itauçu, Região Geográfica Imediata de Inhumas - Itaberaí - Anicuns, Região Geográfica Intermediária de Goiânia, Goiás, Região Centro-Oeste, 75450-000, Brasil",
          "Camaçari, Região Geográfica Imediata de Salvador, Região Metropolitana de Salvador, Região Geográfica Intermediária de Salvador, Bahia, Região Nordeste, Brasil",
          "Seabra, Região Geográfica Imediata de Seabra, Região Geográfica Intermediária de Feira de Santana, Bahia, Região Nordeste, 46900-000, Brasil"
         ],
         "lat": [
          -23.7080345,
          -22.7667284,
          -22.490859,
          -16.2035995,
          -12.6998188,
          -12.4172071
         ],
         "legendgroup": "#ff0000",
         "lon": [
          -46.5506747,
          -43.4033603,
          -48.558349,
          -49.6059971,
          -38.3260762,
          -41.772051
         ],
         "marker": {
          "color": "#FF6692",
          "size": [
           20,
           8,
           1,
           2,
           13,
           1
          ],
          "sizemode": "area",
          "sizeref": 11.775,
          "symbol": "circle"
         },
         "mode": "markers",
         "name": "#ff0000",
         "showlegend": true,
         "type": "scattergeo"
        },
        {
         "geo": "geo",
         "hovertemplate": "<b>%{hovertext}</b><br><br>color=#ff4c00<br>Id=%{marker.size}<br>location_lat=%{lat}<br>location_long=%{lon}<extra></extra>",
         "hovertext": [
          "Diadema, Região Imediata de São Paulo, Região Metropolitana de São Paulo, Região Geográfica Intermediária de São Paulo, São Paulo, Região Sudeste, Brasil"
         ],
         "lat": [
          -23.681347
         ],
         "legendgroup": "#ff4c00",
         "lon": [
          -46.62052
         ],
         "marker": {
          "color": "#B6E880",
          "size": [
           50
          ],
          "sizemode": "area",
          "sizeref": 11.775,
          "symbol": "circle"
         },
         "mode": "markers",
         "name": "#ff4c00",
         "showlegend": true,
         "type": "scattergeo"
        },
        {
         "geo": "geo",
         "hovertemplate": "<b>%{hovertext}</b><br><br>color=#44ff00<br>Id=%{marker.size}<br>location_lat=%{lat}<br>location_long=%{lon}<extra></extra>",
         "hovertext": [
          "Santo André, Região Imediata de São Paulo, Região Metropolitana de São Paulo, Região Geográfica Intermediária de São Paulo, São Paulo, Região Sudeste, Brasil"
         ],
         "lat": [
          -23.6573395
         ],
         "legendgroup": "#44ff00",
         "lon": [
          -46.5322504
         ],
         "marker": {
          "color": "#FF97FF",
          "size": [
           30
          ],
          "sizemode": "area",
          "sizeref": 11.775,
          "symbol": "circle"
         },
         "mode": "markers",
         "name": "#44ff00",
         "showlegend": true,
         "type": "scattergeo"
        },
        {
         "geo": "geo",
         "hovertemplate": "<b>%{hovertext}</b><br><br>color=#8fff00<br>Id=%{marker.size}<br>location_lat=%{lat}<br>location_long=%{lon}<extra></extra>",
         "hovertext": [
          "São Paulo, Região Imediata de São Paulo, Região Metropolitana de São Paulo, Região Geográfica Intermediária de São Paulo, São Paulo, Região Sudeste, Brasil"
         ],
         "lat": [
          -23.5506507
         ],
         "legendgroup": "#8fff00",
         "lon": [
          -46.6333824
         ],
         "marker": {
          "color": "#FECB52",
          "size": [
           4710
          ],
          "sizemode": "area",
          "sizeref": 11.775,
          "symbol": "circle"
         },
         "mode": "markers",
         "name": "#8fff00",
         "showlegend": true,
         "type": "scattergeo"
        },
        {
         "geo": "geo",
         "hovertemplate": "<b>%{hovertext}</b><br><br>color=#ff6600<br>Id=%{marker.size}<br>location_lat=%{lat}<br>location_long=%{lon}<extra></extra>",
         "hovertext": [
          "Suzano, Região Imediata de São Paulo, Região Metropolitana de São Paulo, Região Geográfica Intermediária de São Paulo, São Paulo, Região Sudeste, Brasil"
         ],
         "lat": [
          -23.5427842
         ],
         "legendgroup": "#ff6600",
         "lon": [
          -46.3108391
         ],
         "marker": {
          "color": "#636efa",
          "size": [
           34
          ],
          "sizemode": "area",
          "sizeref": 11.775,
          "symbol": "circle"
         },
         "mode": "markers",
         "name": "#ff6600",
         "showlegend": true,
         "type": "scattergeo"
        },
        {
         "geo": "geo",
         "hovertemplate": "<b>%{hovertext}</b><br><br>color=#99ff00<br>Id=%{marker.size}<br>location_lat=%{lat}<br>location_long=%{lon}<extra></extra>",
         "hovertext": [
          "Barueri, Região Imediata de São Paulo, Região Metropolitana de São Paulo, Região Geográfica Intermediária de São Paulo, São Paulo, Região Sudeste, Brasil",
          "Guarulhos, Região Imediata de São Paulo, Região Metropolitana de São Paulo, Região Geográfica Intermediária de São Paulo, São Paulo, Região Sudeste, Brasil"
         ],
         "lat": [
          -23.5112184,
          -23.4430602
         ],
         "legendgroup": "#99ff00",
         "lon": [
          -46.8764612,
          -46.524459
         ],
         "marker": {
          "color": "#EF553B",
          "size": [
           10,
           54
          ],
          "sizemode": "area",
          "sizeref": 11.775,
          "symbol": "circle"
         },
         "mode": "markers",
         "name": "#99ff00",
         "showlegend": true,
         "type": "scattergeo"
        },
        {
         "geo": "geo",
         "hovertemplate": "<b>%{hovertext}</b><br><br>color=#c0ff00<br>Id=%{marker.size}<br>location_lat=%{lat}<br>location_long=%{lon}<extra></extra>",
         "hovertext": [
          "Rio de Janeiro, Região Geográfica Imediata do Rio de Janeiro, Região Metropolitana do Rio de Janeiro, Região Geográfica Intermediária do Rio de Janeiro, Rio de Janeiro, Região Sudeste, Brasil"
         ],
         "lat": [
          -22.9110137
         ],
         "legendgroup": "#c0ff00",
         "lon": [
          -43.2093727
         ],
         "marker": {
          "color": "#00cc96",
          "size": [
           1823
          ],
          "sizemode": "area",
          "sizeref": 11.775,
          "symbol": "circle"
         },
         "mode": "markers",
         "name": "#c0ff00",
         "showlegend": true,
         "type": "scattergeo"
        },
        {
         "geo": "geo",
         "hovertemplate": "<b>%{hovertext}</b><br><br>color=#65ff00<br>Id=%{marker.size}<br>location_lat=%{lat}<br>location_long=%{lon}<extra></extra>",
         "hovertext": [
          "Nilópolis, Região Geográfica Imediata do Rio de Janeiro, Região Metropolitana do Rio de Janeiro, Região Geográfica Intermediária do Rio de Janeiro, Rio de Janeiro, Região Sudeste, Brasil"
         ],
         "lat": [
          -22.8080114
         ],
         "legendgroup": "#65ff00",
         "lon": [
          -43.4138222
         ],
         "marker": {
          "color": "#ab63fa",
          "size": [
           25
          ],
          "sizemode": "area",
          "sizeref": 11.775,
          "symbol": "circle"
         },
         "mode": "markers",
         "name": "#65ff00",
         "showlegend": true,
         "type": "scattergeo"
        },
        {
         "geo": "geo",
         "hovertemplate": "<b>%{hovertext}</b><br><br>color=#d6ff00<br>Id=%{marker.size}<br>location_lat=%{lat}<br>location_long=%{lon}<extra></extra>",
         "hovertext": [
          "Duque de Caxias, Região Geográfica Imediata do Rio de Janeiro, Região Metropolitana do Rio de Janeiro, Região Geográfica Intermediária do Rio de Janeiro, Rio de Janeiro, Região Sudeste, Brasil"
         ],
         "lat": [
          -22.7896225
         ],
         "legendgroup": "#d6ff00",
         "lon": [
          -43.309929
         ],
         "marker": {
          "color": "#FFA15A",
          "size": [
           135
          ],
          "sizemode": "area",
          "sizeref": 11.775,
          "symbol": "circle"
         },
         "mode": "markers",
         "name": "#d6ff00",
         "showlegend": true,
         "type": "scattergeo"
        },
        {
         "geo": "geo",
         "hovertemplate": "<b>%{hovertext}</b><br><br>color=#bbff00<br>Id=%{marker.size}<br>location_lat=%{lat}<br>location_long=%{lon}<extra></extra>",
         "hovertext": [
          "Nova Iguaçu, Região Geográfica Imediata do Rio de Janeiro, Região Metropolitana do Rio de Janeiro, Região Geográfica Intermediária do Rio de Janeiro, Rio de Janeiro, Região Sudeste, Brasil"
         ],
         "lat": [
          -22.7592175
         ],
         "legendgroup": "#bbff00",
         "lon": [
          -43.4508728
         ],
         "marker": {
          "color": "#19d3f3",
          "size": [
           80
          ],
          "sizemode": "area",
          "sizeref": 11.775,
          "symbol": "circle"
         },
         "mode": "markers",
         "name": "#bbff00",
         "showlegend": true,
         "type": "scattergeo"
        },
        {
         "geo": "geo",
         "hovertemplate": "<b>%{hovertext}</b><br><br>color=#b4ff00<br>Id=%{marker.size}<br>location_lat=%{lat}<br>location_long=%{lon}<extra></extra>",
         "hovertext": [
          "Goiânia, Região Geográfica Imediata de Goiânia, Região Geográfica Intermediária de Goiânia, Goiás, Região Centro-Oeste, Brasil"
         ],
         "lat": [
          -16.680882
         ],
         "legendgroup": "#b4ff00",
         "lon": [
          -49.2532691
         ],
         "marker": {
          "color": "#FF6692",
          "size": [
           252
          ],
          "sizemode": "area",
          "sizeref": 11.775,
          "symbol": "circle"
         },
         "mode": "markers",
         "name": "#b4ff00",
         "showlegend": true,
         "type": "scattergeo"
        },
        {
         "geo": "geo",
         "hovertemplate": "<b>%{hovertext}</b><br><br>color=#e5ff00<br>Id=%{marker.size}<br>location_lat=%{lat}<br>location_long=%{lon}<extra></extra>",
         "hovertext": [
          "Anápolis, Região Geográfica Imediata de Anápolis, Região Geográfica Intermediária de Goiânia, Goiás, Região Centro-Oeste, Brasil"
         ],
         "lat": [
          -16.3332828
         ],
         "legendgroup": "#e5ff00",
         "lon": [
          -48.9525756
         ],
         "marker": {
          "color": "#B6E880",
          "size": [
           24
          ],
          "sizemode": "area",
          "sizeref": 11.775,
          "symbol": "circle"
         },
         "mode": "markers",
         "name": "#e5ff00",
         "showlegend": true,
         "type": "scattergeo"
        },
        {
         "geo": "geo",
         "hovertemplate": "<b>%{hovertext}</b><br><br>color=#ff3200<br>Id=%{marker.size}<br>location_lat=%{lat}<br>location_long=%{lon}<extra></extra>",
         "hovertext": [
          "Jaraguá, Região Geográfica Imediata de Anápolis, Região Geográfica Intermediária de Goiânia, Goiás, Região Centro-Oeste, Brasil"
         ],
         "lat": [
          -15.7528866
         ],
         "legendgroup": "#ff3200",
         "lon": [
          -49.3344033
         ],
         "marker": {
          "color": "#FF97FF",
          "size": [
           1
          ],
          "sizemode": "area",
          "sizeref": 11.775,
          "symbol": "circle"
         },
         "mode": "markers",
         "name": "#ff3200",
         "showlegend": true,
         "type": "scattergeo"
        },
        {
         "geo": "geo",
         "hovertemplate": "<b>%{hovertext}</b><br><br>color=#ffb200<br>Id=%{marker.size}<br>location_lat=%{lat}<br>location_long=%{lon}<extra></extra>",
         "hovertext": [
          "Lauro de Freitas, Região Geográfica Imediata de Salvador, Região Metropolitana de Salvador, Região Geográfica Intermediária de Salvador, Bahia, Região Nordeste, Brasil"
         ],
         "lat": [
          -12.89242
         ],
         "legendgroup": "#ffb200",
         "lon": [
          -38.3127691
         ],
         "marker": {
          "color": "#FECB52",
          "size": [
           17
          ],
          "sizemode": "area",
          "sizeref": 11.775,
          "symbol": "circle"
         },
         "mode": "markers",
         "name": "#ffb200",
         "showlegend": true,
         "type": "scattergeo"
        },
        {
         "geo": "geo",
         "hovertemplate": "<b>%{hovertext}</b><br><br>color=#acff00<br>Id=%{marker.size}<br>location_lat=%{lat}<br>location_long=%{lon}<extra></extra>",
         "hovertext": [
          "Recife, Região Geográfica Imediata do Recife, Região Metropolitana do Recife, Região Geográfica Intermediária do Recife, Pernambuco, Região Nordeste, Brasil"
         ],
         "lat": [
          -8.0584933
         ],
         "legendgroup": "#acff00",
         "lon": [
          -34.8848193
         ],
         "marker": {
          "color": "#636efa",
          "size": [
           129
          ],
          "sizemode": "area",
          "sizeref": 11.775,
          "symbol": "circle"
         },
         "mode": "markers",
         "name": "#acff00",
         "showlegend": true,
         "type": "scattergeo"
        },
        {
         "geo": "geo",
         "hovertemplate": "<b>%{hovertext}</b><br><br>color=#c4ff00<br>Id=%{marker.size}<br>location_lat=%{lat}<br>location_long=%{lon}<extra></extra>",
         "hovertext": [
          "Manaus, Região Geográfica Imediata de Manaus, Região Geográfica Intermediária de Manaus, Amazonas, Região Norte, 69000-000, Brasil"
         ],
         "lat": [
          -3.1316333
         ],
         "legendgroup": "#c4ff00",
         "lon": [
          -59.9825041
         ],
         "marker": {
          "color": "#EF553B",
          "size": [
           86
          ],
          "sizemode": "area",
          "sizeref": 11.775,
          "symbol": "circle"
         },
         "mode": "markers",
         "name": "#c4ff00",
         "showlegend": true,
         "type": "scattergeo"
        },
        {
         "geo": "geo",
         "hovertemplate": "<b>%{hovertext}</b><br><br>color=#62ff00<br>Id=%{marker.size}<br>location_lat=%{lat}<br>location_long=%{lon}<extra></extra>",
         "hovertext": [
          "Salvador Bridge, Dr. A. Santos Avenue, San Isidro, Parañaque, Southern Manila District, Metro Manila, 1744, Philippines"
         ],
         "lat": [
          14.4742095
         ],
         "legendgroup": "#62ff00",
         "lon": [
          121.0024244
         ],
         "marker": {
          "color": "#00cc96",
          "size": [
           282
          ],
          "sizemode": "area",
          "sizeref": 11.775,
          "symbol": "circle"
         },
         "mode": "markers",
         "name": "#62ff00",
         "showlegend": true,
         "type": "scattergeo"
        }
       ],
       "layout": {
        "geo": {
         "center": {},
         "domain": {
          "x": [
           0,
           1
          ],
          "y": [
           0,
           1
          ]
         },
         "projection": {
          "type": "natural earth"
         }
        },
        "legend": {
         "itemsizing": "constant",
         "title": {
          "text": "color"
         },
         "tracegroupgap": 0
        },
        "margin": {
         "t": 60
        },
        "template": {
         "data": {
          "bar": [
           {
            "error_x": {
             "color": "#2a3f5f"
            },
            "error_y": {
             "color": "#2a3f5f"
            },
            "marker": {
             "line": {
              "color": "#E5ECF6",
              "width": 0.5
             },
             "pattern": {
              "fillmode": "overlay",
              "size": 10,
              "solidity": 0.2
             }
            },
            "type": "bar"
           }
          ],
          "barpolar": [
           {
            "marker": {
             "line": {
              "color": "#E5ECF6",
              "width": 0.5
             },
             "pattern": {
              "fillmode": "overlay",
              "size": 10,
              "solidity": 0.2
             }
            },
            "type": "barpolar"
           }
          ],
          "carpet": [
           {
            "aaxis": {
             "endlinecolor": "#2a3f5f",
             "gridcolor": "white",
             "linecolor": "white",
             "minorgridcolor": "white",
             "startlinecolor": "#2a3f5f"
            },
            "baxis": {
             "endlinecolor": "#2a3f5f",
             "gridcolor": "white",
             "linecolor": "white",
             "minorgridcolor": "white",
             "startlinecolor": "#2a3f5f"
            },
            "type": "carpet"
           }
          ],
          "choropleth": [
           {
            "colorbar": {
             "outlinewidth": 0,
             "ticks": ""
            },
            "type": "choropleth"
           }
          ],
          "contour": [
           {
            "colorbar": {
             "outlinewidth": 0,
             "ticks": ""
            },
            "colorscale": [
             [
              0,
              "#0d0887"
             ],
             [
              0.1111111111111111,
              "#46039f"
             ],
             [
              0.2222222222222222,
              "#7201a8"
             ],
             [
              0.3333333333333333,
              "#9c179e"
             ],
             [
              0.4444444444444444,
              "#bd3786"
             ],
             [
              0.5555555555555556,
              "#d8576b"
             ],
             [
              0.6666666666666666,
              "#ed7953"
             ],
             [
              0.7777777777777778,
              "#fb9f3a"
             ],
             [
              0.8888888888888888,
              "#fdca26"
             ],
             [
              1,
              "#f0f921"
             ]
            ],
            "type": "contour"
           }
          ],
          "contourcarpet": [
           {
            "colorbar": {
             "outlinewidth": 0,
             "ticks": ""
            },
            "type": "contourcarpet"
           }
          ],
          "heatmap": [
           {
            "colorbar": {
             "outlinewidth": 0,
             "ticks": ""
            },
            "colorscale": [
             [
              0,
              "#0d0887"
             ],
             [
              0.1111111111111111,
              "#46039f"
             ],
             [
              0.2222222222222222,
              "#7201a8"
             ],
             [
              0.3333333333333333,
              "#9c179e"
             ],
             [
              0.4444444444444444,
              "#bd3786"
             ],
             [
              0.5555555555555556,
              "#d8576b"
             ],
             [
              0.6666666666666666,
              "#ed7953"
             ],
             [
              0.7777777777777778,
              "#fb9f3a"
             ],
             [
              0.8888888888888888,
              "#fdca26"
             ],
             [
              1,
              "#f0f921"
             ]
            ],
            "type": "heatmap"
           }
          ],
          "heatmapgl": [
           {
            "colorbar": {
             "outlinewidth": 0,
             "ticks": ""
            },
            "colorscale": [
             [
              0,
              "#0d0887"
             ],
             [
              0.1111111111111111,
              "#46039f"
             ],
             [
              0.2222222222222222,
              "#7201a8"
             ],
             [
              0.3333333333333333,
              "#9c179e"
             ],
             [
              0.4444444444444444,
              "#bd3786"
             ],
             [
              0.5555555555555556,
              "#d8576b"
             ],
             [
              0.6666666666666666,
              "#ed7953"
             ],
             [
              0.7777777777777778,
              "#fb9f3a"
             ],
             [
              0.8888888888888888,
              "#fdca26"
             ],
             [
              1,
              "#f0f921"
             ]
            ],
            "type": "heatmapgl"
           }
          ],
          "histogram": [
           {
            "marker": {
             "pattern": {
              "fillmode": "overlay",
              "size": 10,
              "solidity": 0.2
             }
            },
            "type": "histogram"
           }
          ],
          "histogram2d": [
           {
            "colorbar": {
             "outlinewidth": 0,
             "ticks": ""
            },
            "colorscale": [
             [
              0,
              "#0d0887"
             ],
             [
              0.1111111111111111,
              "#46039f"
             ],
             [
              0.2222222222222222,
              "#7201a8"
             ],
             [
              0.3333333333333333,
              "#9c179e"
             ],
             [
              0.4444444444444444,
              "#bd3786"
             ],
             [
              0.5555555555555556,
              "#d8576b"
             ],
             [
              0.6666666666666666,
              "#ed7953"
             ],
             [
              0.7777777777777778,
              "#fb9f3a"
             ],
             [
              0.8888888888888888,
              "#fdca26"
             ],
             [
              1,
              "#f0f921"
             ]
            ],
            "type": "histogram2d"
           }
          ],
          "histogram2dcontour": [
           {
            "colorbar": {
             "outlinewidth": 0,
             "ticks": ""
            },
            "colorscale": [
             [
              0,
              "#0d0887"
             ],
             [
              0.1111111111111111,
              "#46039f"
             ],
             [
              0.2222222222222222,
              "#7201a8"
             ],
             [
              0.3333333333333333,
              "#9c179e"
             ],
             [
              0.4444444444444444,
              "#bd3786"
             ],
             [
              0.5555555555555556,
              "#d8576b"
             ],
             [
              0.6666666666666666,
              "#ed7953"
             ],
             [
              0.7777777777777778,
              "#fb9f3a"
             ],
             [
              0.8888888888888888,
              "#fdca26"
             ],
             [
              1,
              "#f0f921"
             ]
            ],
            "type": "histogram2dcontour"
           }
          ],
          "mesh3d": [
           {
            "colorbar": {
             "outlinewidth": 0,
             "ticks": ""
            },
            "type": "mesh3d"
           }
          ],
          "parcoords": [
           {
            "line": {
             "colorbar": {
              "outlinewidth": 0,
              "ticks": ""
             }
            },
            "type": "parcoords"
           }
          ],
          "pie": [
           {
            "automargin": true,
            "type": "pie"
           }
          ],
          "scatter": [
           {
            "fillpattern": {
             "fillmode": "overlay",
             "size": 10,
             "solidity": 0.2
            },
            "type": "scatter"
           }
          ],
          "scatter3d": [
           {
            "line": {
             "colorbar": {
              "outlinewidth": 0,
              "ticks": ""
             }
            },
            "marker": {
             "colorbar": {
              "outlinewidth": 0,
              "ticks": ""
             }
            },
            "type": "scatter3d"
           }
          ],
          "scattercarpet": [
           {
            "marker": {
             "colorbar": {
              "outlinewidth": 0,
              "ticks": ""
             }
            },
            "type": "scattercarpet"
           }
          ],
          "scattergeo": [
           {
            "marker": {
             "colorbar": {
              "outlinewidth": 0,
              "ticks": ""
             }
            },
            "type": "scattergeo"
           }
          ],
          "scattergl": [
           {
            "marker": {
             "colorbar": {
              "outlinewidth": 0,
              "ticks": ""
             }
            },
            "type": "scattergl"
           }
          ],
          "scattermapbox": [
           {
            "marker": {
             "colorbar": {
              "outlinewidth": 0,
              "ticks": ""
             }
            },
            "type": "scattermapbox"
           }
          ],
          "scatterpolar": [
           {
            "marker": {
             "colorbar": {
              "outlinewidth": 0,
              "ticks": ""
             }
            },
            "type": "scatterpolar"
           }
          ],
          "scatterpolargl": [
           {
            "marker": {
             "colorbar": {
              "outlinewidth": 0,
              "ticks": ""
             }
            },
            "type": "scatterpolargl"
           }
          ],
          "scatterternary": [
           {
            "marker": {
             "colorbar": {
              "outlinewidth": 0,
              "ticks": ""
             }
            },
            "type": "scatterternary"
           }
          ],
          "surface": [
           {
            "colorbar": {
             "outlinewidth": 0,
             "ticks": ""
            },
            "colorscale": [
             [
              0,
              "#0d0887"
             ],
             [
              0.1111111111111111,
              "#46039f"
             ],
             [
              0.2222222222222222,
              "#7201a8"
             ],
             [
              0.3333333333333333,
              "#9c179e"
             ],
             [
              0.4444444444444444,
              "#bd3786"
             ],
             [
              0.5555555555555556,
              "#d8576b"
             ],
             [
              0.6666666666666666,
              "#ed7953"
             ],
             [
              0.7777777777777778,
              "#fb9f3a"
             ],
             [
              0.8888888888888888,
              "#fdca26"
             ],
             [
              1,
              "#f0f921"
             ]
            ],
            "type": "surface"
           }
          ],
          "table": [
           {
            "cells": {
             "fill": {
              "color": "#EBF0F8"
             },
             "line": {
              "color": "white"
             }
            },
            "header": {
             "fill": {
              "color": "#C8D4E3"
             },
             "line": {
              "color": "white"
             }
            },
            "type": "table"
           }
          ]
         },
         "layout": {
          "annotationdefaults": {
           "arrowcolor": "#2a3f5f",
           "arrowhead": 0,
           "arrowwidth": 1
          },
          "autotypenumbers": "strict",
          "coloraxis": {
           "colorbar": {
            "outlinewidth": 0,
            "ticks": ""
           }
          },
          "colorscale": {
           "diverging": [
            [
             0,
             "#8e0152"
            ],
            [
             0.1,
             "#c51b7d"
            ],
            [
             0.2,
             "#de77ae"
            ],
            [
             0.3,
             "#f1b6da"
            ],
            [
             0.4,
             "#fde0ef"
            ],
            [
             0.5,
             "#f7f7f7"
            ],
            [
             0.6,
             "#e6f5d0"
            ],
            [
             0.7,
             "#b8e186"
            ],
            [
             0.8,
             "#7fbc41"
            ],
            [
             0.9,
             "#4d9221"
            ],
            [
             1,
             "#276419"
            ]
           ],
           "sequential": [
            [
             0,
             "#0d0887"
            ],
            [
             0.1111111111111111,
             "#46039f"
            ],
            [
             0.2222222222222222,
             "#7201a8"
            ],
            [
             0.3333333333333333,
             "#9c179e"
            ],
            [
             0.4444444444444444,
             "#bd3786"
            ],
            [
             0.5555555555555556,
             "#d8576b"
            ],
            [
             0.6666666666666666,
             "#ed7953"
            ],
            [
             0.7777777777777778,
             "#fb9f3a"
            ],
            [
             0.8888888888888888,
             "#fdca26"
            ],
            [
             1,
             "#f0f921"
            ]
           ],
           "sequentialminus": [
            [
             0,
             "#0d0887"
            ],
            [
             0.1111111111111111,
             "#46039f"
            ],
            [
             0.2222222222222222,
             "#7201a8"
            ],
            [
             0.3333333333333333,
             "#9c179e"
            ],
            [
             0.4444444444444444,
             "#bd3786"
            ],
            [
             0.5555555555555556,
             "#d8576b"
            ],
            [
             0.6666666666666666,
             "#ed7953"
            ],
            [
             0.7777777777777778,
             "#fb9f3a"
            ],
            [
             0.8888888888888888,
             "#fdca26"
            ],
            [
             1,
             "#f0f921"
            ]
           ]
          },
          "colorway": [
           "#636efa",
           "#EF553B",
           "#00cc96",
           "#ab63fa",
           "#FFA15A",
           "#19d3f3",
           "#FF6692",
           "#B6E880",
           "#FF97FF",
           "#FECB52"
          ],
          "font": {
           "color": "#2a3f5f"
          },
          "geo": {
           "bgcolor": "white",
           "lakecolor": "white",
           "landcolor": "#E5ECF6",
           "showlakes": true,
           "showland": true,
           "subunitcolor": "white"
          },
          "hoverlabel": {
           "align": "left"
          },
          "hovermode": "closest",
          "mapbox": {
           "style": "light"
          },
          "paper_bgcolor": "white",
          "plot_bgcolor": "#E5ECF6",
          "polar": {
           "angularaxis": {
            "gridcolor": "white",
            "linecolor": "white",
            "ticks": ""
           },
           "bgcolor": "#E5ECF6",
           "radialaxis": {
            "gridcolor": "white",
            "linecolor": "white",
            "ticks": ""
           }
          },
          "scene": {
           "xaxis": {
            "backgroundcolor": "#E5ECF6",
            "gridcolor": "white",
            "gridwidth": 2,
            "linecolor": "white",
            "showbackground": true,
            "ticks": "",
            "zerolinecolor": "white"
           },
           "yaxis": {
            "backgroundcolor": "#E5ECF6",
            "gridcolor": "white",
            "gridwidth": 2,
            "linecolor": "white",
            "showbackground": true,
            "ticks": "",
            "zerolinecolor": "white"
           },
           "zaxis": {
            "backgroundcolor": "#E5ECF6",
            "gridcolor": "white",
            "gridwidth": 2,
            "linecolor": "white",
            "showbackground": true,
            "ticks": "",
            "zerolinecolor": "white"
           }
          },
          "shapedefaults": {
           "line": {
            "color": "#2a3f5f"
           }
          },
          "ternary": {
           "aaxis": {
            "gridcolor": "white",
            "linecolor": "white",
            "ticks": ""
           },
           "baxis": {
            "gridcolor": "white",
            "linecolor": "white",
            "ticks": ""
           },
           "bgcolor": "#E5ECF6",
           "caxis": {
            "gridcolor": "white",
            "linecolor": "white",
            "ticks": ""
           }
          },
          "title": {
           "x": 0.05
          },
          "xaxis": {
           "automargin": true,
           "gridcolor": "white",
           "linecolor": "white",
           "ticks": "",
           "title": {
            "standoff": 15
           },
           "zerolinecolor": "white",
           "zerolinewidth": 2
          },
          "yaxis": {
           "automargin": true,
           "gridcolor": "white",
           "linecolor": "white",
           "ticks": "",
           "title": {
            "standoff": 15
           },
           "zerolinecolor": "white",
           "zerolinewidth": 2
          }
         }
        }
       }
      }
     },
     "metadata": {},
     "output_type": "display_data"
    }
   ],
   "source": [
    "import plotly.express as px\n",
    "df = px.data.gapminder()\n",
    "fig = px.scatter_geo(geoDf, \n",
    "                     color=\"color\",\n",
    "                     lat=\"location_lat\",\n",
    "                     lon=\"location_long\",\n",
    "                     hover_name=\"location_address\",\n",
    "                     size=\"Id\",\n",
    "                     projection=\"natural earth\")\n",
    "fig.show()"
   ]
  },
  {
   "cell_type": "code",
   "execution_count": 68,
   "metadata": {},
   "outputs": [
    {
     "data": {
      "application/vnd.plotly.v1+json": {
       "config": {
        "plotlyServerURL": "https://plot.ly"
       },
       "data": [
        {
         "link": {
          "source": [
           0,
           12,
           60,
           0,
           13,
           60,
           1,
           14,
           60,
           60,
           1,
           15,
           60,
           2,
           14,
           14,
           62,
           15,
           63,
           0,
           16,
           3,
           17,
           64,
           4,
           14,
           65,
           1,
           18,
           1,
           5,
           1,
           20,
           67,
           5,
           68,
           5,
           69,
           1,
           21,
           13,
           70,
           0,
           22,
           0,
           23,
           2,
           24,
           1,
           25,
           14,
           71,
           0,
           26,
           6,
           14,
           72,
           7,
           0,
           27,
           8,
           5,
           73,
           0,
           28,
           2,
           29,
           9,
           30,
           74,
           16,
           75,
           0,
           31,
           1,
           32,
           2,
           33,
           0,
           34,
           2,
           35,
           13,
           76,
           14,
           77,
           0,
           36,
           15,
           78,
           10,
           12,
           79,
           20,
           80,
           0,
           37,
           22,
           81,
           0,
           38,
           0,
           39,
           0,
           40,
           0,
           41,
           3,
           42,
           3,
           43,
           11,
           8,
           44,
           0,
           45,
           3,
           46,
           0,
           47,
           3,
           48,
           8,
           49,
           3,
           50,
           0,
           51,
           0,
           52,
           8,
           53,
           8,
           54,
           0,
           55,
           0,
           56,
           0,
           57,
           3,
           58,
           0,
           59,
           12,
           82,
           12,
           83,
           32,
           84
          ],
          "target": [
           12,
           60,
           85,
           13,
           60,
           86,
           14,
           60,
           87,
           88,
           15,
           60,
           89,
           14,
           2,
           62,
           89,
           63,
           89,
           16,
           60,
           17,
           64,
           86,
           14,
           65,
           86,
           18,
           63,
           5,
           5,
           20,
           67,
           85,
           68,
           89,
           69,
           85,
           21,
           60,
           70,
           85,
           22,
           60,
           23,
           60,
           24,
           2,
           25,
           60,
           71,
           89,
           26,
           70,
           14,
           72,
           85,
           14,
           27,
           60,
           13,
           73,
           88,
           28,
           60,
           29,
           2,
           30,
           74,
           85,
           75,
           86,
           31,
           60,
           32,
           69,
           33,
           2,
           34,
           60,
           35,
           2,
           76,
           85,
           77,
           85,
           36,
           60,
           78,
           85,
           12,
           79,
           85,
           80,
           85,
           37,
           60,
           81,
           85,
           38,
           60,
           39,
           60,
           40,
           60,
           41,
           60,
           42,
           63,
           43,
           63,
           34,
           44,
           62,
           45,
           60,
           46,
           63,
           47,
           60,
           48,
           64,
           49,
           62,
           50,
           64,
           51,
           60,
           52,
           60,
           53,
           62,
           54,
           67,
           55,
           60,
           56,
           60,
           57,
           60,
           58,
           63,
           59,
           60,
           82,
           86,
           83,
           86,
           84,
           86
          ],
          "value": [
           1720,
           17574,
           17912,
           2828,
           1,
           3345,
           2750,
           1,
           522,
           1583,
           1938,
           1,
           1834,
           1,
           68,
           345,
           1,
           856,
           1,
           1722,
           1,
           446,
           724,
           1,
           1,
           31,
           1,
           1468,
           1,
           160,
           1,
           1001,
           228,
           1,
           186,
           1,
           2107,
           1,
           1501,
           1,
           334,
           1,
           697,
           1,
           818,
           1,
           304,
           1,
           196,
           1,
           25,
           1,
           450,
           1,
           1,
           3,
           1,
           1,
           328,
           1,
           1,
           25,
           1,
           137,
           1,
           231,
           1,
           171,
           1,
           1,
           1,
           1,
           595,
           1,
           271,
           1,
           1,
           1,
           112,
           1,
           133,
           1,
           14,
           1,
           2596,
           1,
           2604,
           1,
           21,
           1,
           1,
           2,
           1,
           1,
           1,
           637,
           1,
           1,
           1,
           413,
           1,
           306,
           1,
           178,
           1,
           112,
           1,
           127,
           1,
           119,
           1,
           1,
           102,
           1,
           88,
           1,
           82,
           1,
           80,
           1,
           67,
           1,
           53,
           1,
           45,
           1,
           44,
           1,
           38,
           1,
           30,
           1,
           32,
           1,
           27,
           1,
           25,
           1,
           18,
           1,
           18,
           1,
           16,
           1,
           1,
           1,
           1,
           1,
           1,
           1
          ]
         },
         "node": {
          "color": "blue",
          "label": [
           "Provedores e serv. de internet",
           "Não encontrei meu problema",
           "Telefonia fixa",
           "Problemas com o Atendimento",
           "Diversos",
           null,
           "Telefonia celular",
           "Celulares e Smartphones",
           "Problemas com o Site",
           "Serviços de câmbio e transferência de dinheiro",
           "Bancos",
           "Cartões de Crédito",
           "Propaganda enganosa",
           "Qualidade da internet",
           "Cobrança indevida",
           "Mau atendimento no SAC",
           "Cancelamento",
           "Cobrança duplicada",
           "Problemas na finalização da compra",
           null,
           "Dificuldade de cadastro",
           "Problema com equipamento fornecido",
           "Não consigo cancelar",
           "Mudança de plano",
           "Qualidade do serviço prestado",
           "Pagamento automático",
           "Instabilidade de sinal",
           "Valor abusivo",
           "Serasa-SPC",
           "Mau Atendimento",
           "Login-Senha",
           "Planos e tarifas",
           "Estorno do valor pago",
           "Qualidade do sinal",
           "Produto errado",
           "Mau atendimento do prestador de serviço",
           "Outro problema",
           "Site fora do ar-Lento",
           "Promoções",
           "Demora na execução",
           "Consumo da franquia",
           "Baixa Qualidade",
           "Não atende",
           "Demora no atendimento",
           "Emissão de boleto",
           "Atraso na entrega",
           "Não consigo fazer operação por telefone",
           "Divergência de valores",
           "Funcionários despreparados",
           "Segunda via de boleto",
           "Comportamento do profissional",
           "Forma de pagamento indisponível",
           "Produto indisponível",
           "Divergência de preço",
           "Atualização de dados cadastrais",
           "Fila para acessar o site",
           "Promoção",
           "Sorteios-Concursos",
           "Ligação finalizada",
           "Maquiagem de preço",
           "Internet para casa",
           "Telefonia fixa",
           "Pagamentos e Documentos",
           "Canais de Atendimento",
           "Equipe de Atendimento",
           "Problemas Gerais",
           null,
           "Acesso ao Cadastro",
           "Propaganda Enganosa",
           "Internet para computador",
           "Internet para celular",
           "Cadastro e Assinatura",
           "Celular",
           "Planos pós-pagos",
           "Cartão Pré-pago",
           "Planos pré-pagos",
           "Internet para tablet",
           "Outro Tipo de produto/Serviço",
           "Navegabilidade",
           "Cartão de débito",
           "Internet Banking",
           "Telefone",
           "Entrega",
           "Cartão de crédito",
           "Conta",
           "PENDING",
           "ANSWERED",
           "REPLY",
           "NOT_SOLVED",
           "SOLVED"
          ],
          "line": {
           "color": "black",
           "width": 0.5
          },
          "pad": 15,
          "thickness": 15
         },
         "type": "sankey",
         "valueformat": ".0f",
         "valuesuffix": "TWh"
        }
       ],
       "layout": {
        "font": {
         "size": 10
        },
        "template": {
         "data": {
          "bar": [
           {
            "error_x": {
             "color": "#2a3f5f"
            },
            "error_y": {
             "color": "#2a3f5f"
            },
            "marker": {
             "line": {
              "color": "#E5ECF6",
              "width": 0.5
             },
             "pattern": {
              "fillmode": "overlay",
              "size": 10,
              "solidity": 0.2
             }
            },
            "type": "bar"
           }
          ],
          "barpolar": [
           {
            "marker": {
             "line": {
              "color": "#E5ECF6",
              "width": 0.5
             },
             "pattern": {
              "fillmode": "overlay",
              "size": 10,
              "solidity": 0.2
             }
            },
            "type": "barpolar"
           }
          ],
          "carpet": [
           {
            "aaxis": {
             "endlinecolor": "#2a3f5f",
             "gridcolor": "white",
             "linecolor": "white",
             "minorgridcolor": "white",
             "startlinecolor": "#2a3f5f"
            },
            "baxis": {
             "endlinecolor": "#2a3f5f",
             "gridcolor": "white",
             "linecolor": "white",
             "minorgridcolor": "white",
             "startlinecolor": "#2a3f5f"
            },
            "type": "carpet"
           }
          ],
          "choropleth": [
           {
            "colorbar": {
             "outlinewidth": 0,
             "ticks": ""
            },
            "type": "choropleth"
           }
          ],
          "contour": [
           {
            "colorbar": {
             "outlinewidth": 0,
             "ticks": ""
            },
            "colorscale": [
             [
              0,
              "#0d0887"
             ],
             [
              0.1111111111111111,
              "#46039f"
             ],
             [
              0.2222222222222222,
              "#7201a8"
             ],
             [
              0.3333333333333333,
              "#9c179e"
             ],
             [
              0.4444444444444444,
              "#bd3786"
             ],
             [
              0.5555555555555556,
              "#d8576b"
             ],
             [
              0.6666666666666666,
              "#ed7953"
             ],
             [
              0.7777777777777778,
              "#fb9f3a"
             ],
             [
              0.8888888888888888,
              "#fdca26"
             ],
             [
              1,
              "#f0f921"
             ]
            ],
            "type": "contour"
           }
          ],
          "contourcarpet": [
           {
            "colorbar": {
             "outlinewidth": 0,
             "ticks": ""
            },
            "type": "contourcarpet"
           }
          ],
          "heatmap": [
           {
            "colorbar": {
             "outlinewidth": 0,
             "ticks": ""
            },
            "colorscale": [
             [
              0,
              "#0d0887"
             ],
             [
              0.1111111111111111,
              "#46039f"
             ],
             [
              0.2222222222222222,
              "#7201a8"
             ],
             [
              0.3333333333333333,
              "#9c179e"
             ],
             [
              0.4444444444444444,
              "#bd3786"
             ],
             [
              0.5555555555555556,
              "#d8576b"
             ],
             [
              0.6666666666666666,
              "#ed7953"
             ],
             [
              0.7777777777777778,
              "#fb9f3a"
             ],
             [
              0.8888888888888888,
              "#fdca26"
             ],
             [
              1,
              "#f0f921"
             ]
            ],
            "type": "heatmap"
           }
          ],
          "heatmapgl": [
           {
            "colorbar": {
             "outlinewidth": 0,
             "ticks": ""
            },
            "colorscale": [
             [
              0,
              "#0d0887"
             ],
             [
              0.1111111111111111,
              "#46039f"
             ],
             [
              0.2222222222222222,
              "#7201a8"
             ],
             [
              0.3333333333333333,
              "#9c179e"
             ],
             [
              0.4444444444444444,
              "#bd3786"
             ],
             [
              0.5555555555555556,
              "#d8576b"
             ],
             [
              0.6666666666666666,
              "#ed7953"
             ],
             [
              0.7777777777777778,
              "#fb9f3a"
             ],
             [
              0.8888888888888888,
              "#fdca26"
             ],
             [
              1,
              "#f0f921"
             ]
            ],
            "type": "heatmapgl"
           }
          ],
          "histogram": [
           {
            "marker": {
             "pattern": {
              "fillmode": "overlay",
              "size": 10,
              "solidity": 0.2
             }
            },
            "type": "histogram"
           }
          ],
          "histogram2d": [
           {
            "colorbar": {
             "outlinewidth": 0,
             "ticks": ""
            },
            "colorscale": [
             [
              0,
              "#0d0887"
             ],
             [
              0.1111111111111111,
              "#46039f"
             ],
             [
              0.2222222222222222,
              "#7201a8"
             ],
             [
              0.3333333333333333,
              "#9c179e"
             ],
             [
              0.4444444444444444,
              "#bd3786"
             ],
             [
              0.5555555555555556,
              "#d8576b"
             ],
             [
              0.6666666666666666,
              "#ed7953"
             ],
             [
              0.7777777777777778,
              "#fb9f3a"
             ],
             [
              0.8888888888888888,
              "#fdca26"
             ],
             [
              1,
              "#f0f921"
             ]
            ],
            "type": "histogram2d"
           }
          ],
          "histogram2dcontour": [
           {
            "colorbar": {
             "outlinewidth": 0,
             "ticks": ""
            },
            "colorscale": [
             [
              0,
              "#0d0887"
             ],
             [
              0.1111111111111111,
              "#46039f"
             ],
             [
              0.2222222222222222,
              "#7201a8"
             ],
             [
              0.3333333333333333,
              "#9c179e"
             ],
             [
              0.4444444444444444,
              "#bd3786"
             ],
             [
              0.5555555555555556,
              "#d8576b"
             ],
             [
              0.6666666666666666,
              "#ed7953"
             ],
             [
              0.7777777777777778,
              "#fb9f3a"
             ],
             [
              0.8888888888888888,
              "#fdca26"
             ],
             [
              1,
              "#f0f921"
             ]
            ],
            "type": "histogram2dcontour"
           }
          ],
          "mesh3d": [
           {
            "colorbar": {
             "outlinewidth": 0,
             "ticks": ""
            },
            "type": "mesh3d"
           }
          ],
          "parcoords": [
           {
            "line": {
             "colorbar": {
              "outlinewidth": 0,
              "ticks": ""
             }
            },
            "type": "parcoords"
           }
          ],
          "pie": [
           {
            "automargin": true,
            "type": "pie"
           }
          ],
          "scatter": [
           {
            "fillpattern": {
             "fillmode": "overlay",
             "size": 10,
             "solidity": 0.2
            },
            "type": "scatter"
           }
          ],
          "scatter3d": [
           {
            "line": {
             "colorbar": {
              "outlinewidth": 0,
              "ticks": ""
             }
            },
            "marker": {
             "colorbar": {
              "outlinewidth": 0,
              "ticks": ""
             }
            },
            "type": "scatter3d"
           }
          ],
          "scattercarpet": [
           {
            "marker": {
             "colorbar": {
              "outlinewidth": 0,
              "ticks": ""
             }
            },
            "type": "scattercarpet"
           }
          ],
          "scattergeo": [
           {
            "marker": {
             "colorbar": {
              "outlinewidth": 0,
              "ticks": ""
             }
            },
            "type": "scattergeo"
           }
          ],
          "scattergl": [
           {
            "marker": {
             "colorbar": {
              "outlinewidth": 0,
              "ticks": ""
             }
            },
            "type": "scattergl"
           }
          ],
          "scattermapbox": [
           {
            "marker": {
             "colorbar": {
              "outlinewidth": 0,
              "ticks": ""
             }
            },
            "type": "scattermapbox"
           }
          ],
          "scatterpolar": [
           {
            "marker": {
             "colorbar": {
              "outlinewidth": 0,
              "ticks": ""
             }
            },
            "type": "scatterpolar"
           }
          ],
          "scatterpolargl": [
           {
            "marker": {
             "colorbar": {
              "outlinewidth": 0,
              "ticks": ""
             }
            },
            "type": "scatterpolargl"
           }
          ],
          "scatterternary": [
           {
            "marker": {
             "colorbar": {
              "outlinewidth": 0,
              "ticks": ""
             }
            },
            "type": "scatterternary"
           }
          ],
          "surface": [
           {
            "colorbar": {
             "outlinewidth": 0,
             "ticks": ""
            },
            "colorscale": [
             [
              0,
              "#0d0887"
             ],
             [
              0.1111111111111111,
              "#46039f"
             ],
             [
              0.2222222222222222,
              "#7201a8"
             ],
             [
              0.3333333333333333,
              "#9c179e"
             ],
             [
              0.4444444444444444,
              "#bd3786"
             ],
             [
              0.5555555555555556,
              "#d8576b"
             ],
             [
              0.6666666666666666,
              "#ed7953"
             ],
             [
              0.7777777777777778,
              "#fb9f3a"
             ],
             [
              0.8888888888888888,
              "#fdca26"
             ],
             [
              1,
              "#f0f921"
             ]
            ],
            "type": "surface"
           }
          ],
          "table": [
           {
            "cells": {
             "fill": {
              "color": "#EBF0F8"
             },
             "line": {
              "color": "white"
             }
            },
            "header": {
             "fill": {
              "color": "#C8D4E3"
             },
             "line": {
              "color": "white"
             }
            },
            "type": "table"
           }
          ]
         },
         "layout": {
          "annotationdefaults": {
           "arrowcolor": "#2a3f5f",
           "arrowhead": 0,
           "arrowwidth": 1
          },
          "autotypenumbers": "strict",
          "coloraxis": {
           "colorbar": {
            "outlinewidth": 0,
            "ticks": ""
           }
          },
          "colorscale": {
           "diverging": [
            [
             0,
             "#8e0152"
            ],
            [
             0.1,
             "#c51b7d"
            ],
            [
             0.2,
             "#de77ae"
            ],
            [
             0.3,
             "#f1b6da"
            ],
            [
             0.4,
             "#fde0ef"
            ],
            [
             0.5,
             "#f7f7f7"
            ],
            [
             0.6,
             "#e6f5d0"
            ],
            [
             0.7,
             "#b8e186"
            ],
            [
             0.8,
             "#7fbc41"
            ],
            [
             0.9,
             "#4d9221"
            ],
            [
             1,
             "#276419"
            ]
           ],
           "sequential": [
            [
             0,
             "#0d0887"
            ],
            [
             0.1111111111111111,
             "#46039f"
            ],
            [
             0.2222222222222222,
             "#7201a8"
            ],
            [
             0.3333333333333333,
             "#9c179e"
            ],
            [
             0.4444444444444444,
             "#bd3786"
            ],
            [
             0.5555555555555556,
             "#d8576b"
            ],
            [
             0.6666666666666666,
             "#ed7953"
            ],
            [
             0.7777777777777778,
             "#fb9f3a"
            ],
            [
             0.8888888888888888,
             "#fdca26"
            ],
            [
             1,
             "#f0f921"
            ]
           ],
           "sequentialminus": [
            [
             0,
             "#0d0887"
            ],
            [
             0.1111111111111111,
             "#46039f"
            ],
            [
             0.2222222222222222,
             "#7201a8"
            ],
            [
             0.3333333333333333,
             "#9c179e"
            ],
            [
             0.4444444444444444,
             "#bd3786"
            ],
            [
             0.5555555555555556,
             "#d8576b"
            ],
            [
             0.6666666666666666,
             "#ed7953"
            ],
            [
             0.7777777777777778,
             "#fb9f3a"
            ],
            [
             0.8888888888888888,
             "#fdca26"
            ],
            [
             1,
             "#f0f921"
            ]
           ]
          },
          "colorway": [
           "#636efa",
           "#EF553B",
           "#00cc96",
           "#ab63fa",
           "#FFA15A",
           "#19d3f3",
           "#FF6692",
           "#B6E880",
           "#FF97FF",
           "#FECB52"
          ],
          "font": {
           "color": "#2a3f5f"
          },
          "geo": {
           "bgcolor": "white",
           "lakecolor": "white",
           "landcolor": "#E5ECF6",
           "showlakes": true,
           "showland": true,
           "subunitcolor": "white"
          },
          "hoverlabel": {
           "align": "left"
          },
          "hovermode": "closest",
          "mapbox": {
           "style": "light"
          },
          "paper_bgcolor": "white",
          "plot_bgcolor": "#E5ECF6",
          "polar": {
           "angularaxis": {
            "gridcolor": "white",
            "linecolor": "white",
            "ticks": ""
           },
           "bgcolor": "#E5ECF6",
           "radialaxis": {
            "gridcolor": "white",
            "linecolor": "white",
            "ticks": ""
           }
          },
          "scene": {
           "xaxis": {
            "backgroundcolor": "#E5ECF6",
            "gridcolor": "white",
            "gridwidth": 2,
            "linecolor": "white",
            "showbackground": true,
            "ticks": "",
            "zerolinecolor": "white"
           },
           "yaxis": {
            "backgroundcolor": "#E5ECF6",
            "gridcolor": "white",
            "gridwidth": 2,
            "linecolor": "white",
            "showbackground": true,
            "ticks": "",
            "zerolinecolor": "white"
           },
           "zaxis": {
            "backgroundcolor": "#E5ECF6",
            "gridcolor": "white",
            "gridwidth": 2,
            "linecolor": "white",
            "showbackground": true,
            "ticks": "",
            "zerolinecolor": "white"
           }
          },
          "shapedefaults": {
           "line": {
            "color": "#2a3f5f"
           }
          },
          "ternary": {
           "aaxis": {
            "gridcolor": "white",
            "linecolor": "white",
            "ticks": ""
           },
           "baxis": {
            "gridcolor": "white",
            "linecolor": "white",
            "ticks": ""
           },
           "bgcolor": "#E5ECF6",
           "caxis": {
            "gridcolor": "white",
            "linecolor": "white",
            "ticks": ""
           }
          },
          "title": {
           "x": 0.05
          },
          "xaxis": {
           "automargin": true,
           "gridcolor": "white",
           "linecolor": "white",
           "ticks": "",
           "title": {
            "standoff": 15
           },
           "zerolinecolor": "white",
           "zerolinewidth": 2
          },
          "yaxis": {
           "automargin": true,
           "gridcolor": "white",
           "linecolor": "white",
           "ticks": "",
           "title": {
            "standoff": 15
           },
           "zerolinecolor": "white",
           "zerolinewidth": 2
          }
         }
        },
        "title": {
         "text": "Basic Sankey Diagram"
        }
       }
      }
     },
     "metadata": {},
     "output_type": "display_data"
    }
   ],
   "source": []
  }
 ],
 "metadata": {
  "kernelspec": {
   "display_name": "Python 3.10.1 64-bit",
   "language": "python",
   "name": "python3"
  },
  "language_info": {
   "codemirror_mode": {
    "name": "ipython",
    "version": 3
   },
   "file_extension": ".py",
   "mimetype": "text/x-python",
   "name": "python",
   "nbconvert_exporter": "python",
   "pygments_lexer": "ipython3",
   "version": "3.10.1 (tags/v3.10.1:2cd268a, Dec  6 2021, 19:10:37) [MSC v.1929 64 bit (AMD64)]"
  },
  "orig_nbformat": 4,
  "vscode": {
   "interpreter": {
    "hash": "369f2c481f4da34e4445cda3fffd2e751bd1c4d706f27375911949ba6bb62e1c"
   }
  }
 },
 "nbformat": 4,
 "nbformat_minor": 2
}
