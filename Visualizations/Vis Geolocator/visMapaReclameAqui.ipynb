{
 "cells": [
  {
   "cell_type": "code",
   "execution_count": 5,
   "metadata": {},
   "outputs": [],
   "source": [
    "import pandas as pd\n",
    "import colorsys\n",
    "import folium as fol"
   ]
  },
  {
   "cell_type": "code",
   "execution_count": 6,
   "metadata": {},
   "outputs": [],
   "source": [
    "def ColorFromNote(nota):\n",
    "    if pd.isna(nota):\n",
    "        return '#979797'\n",
    "    rgb = colorsys.hsv_to_rgb(nota / 30., 1.0, 1.0)\n",
    "    return '#%02x%02x%02x' % (int(rgb[0]*255), int(rgb[1]*255), int(rgb[2]*255))"
   ]
  },
  {
   "cell_type": "code",
   "execution_count": 7,
   "metadata": {},
   "outputs": [],
   "source": [
    "geoDf = pd.read_excel(\"../../Dataset/GeoLiveTimRA.xlsx\")"
   ]
  },
  {
   "cell_type": "code",
   "execution_count": 94,
   "metadata": {},
   "outputs": [
    {
     "name": "stderr",
     "output_type": "stream",
     "text": [
      "/home/thiago/Documentos/Git Projects/ReclameAqui.Scrapper/.env/lib/python3.7/site-packages/ipykernel_launcher.py:17: UserWarning: color argument of Icon should be one of: beige.\n",
      "  app.launch_new_instance()\n",
      "/home/thiago/Documentos/Git Projects/ReclameAqui.Scrapper/.env/lib/python3.7/site-packages/ipykernel_launcher.py:15: UserWarning: color argument of Icon should be one of: beige.\n",
      "  from ipykernel import kernelapp as app\n",
      "/home/thiago/Documentos/Git Projects/ReclameAqui.Scrapper/.env/lib/python3.7/site-packages/ipykernel_launcher.py:11: UserWarning: color argument of Icon should be one of: beige.\n",
      "  # This is added back by InteractiveShellApp.init_path()\n"
     ]
    }
   ],
   "source": [
    "mapa = fol.Map(location=(-22.908333, -43.196388\t), zoom_start=4, width='100%', height='100%',)\n",
    "\n",
    "for index, row in geoDf.iterrows():\n",
    "    # if index > 5000: break\n",
    "    \n",
    "    # customIcon = fol.Icon(color=ColorFromNote(row['Nota']))\n",
    "    if row['Nota'] < 6:\n",
    "        customIcon = fol.Icon(color=\"red\")\n",
    "    elif row['Nota'] < 8:\n",
    "        customIcon = fol.Icon(color=\"beige\")\n",
    "    elif row['Nota'] < 10:\n",
    "        customIcon = fol.Icon(color=\"green\")\n",
    "    else:\n",
    "        customIcon = fol.Icon(color=\"gray\", angle=30)\n",
    "\n",
    "    size = (row['Id']/geoDf.max()['Id'])*10000\n",
    "    fol.Circle(\n",
    "        location=(row['location_lat'],row['location_long']), \n",
    "        radius=size, \n",
    "        fill_color=ColorFromNote(row['Nota']), \n",
    "        fill_opacity=0.6, \n",
    "        color=\"black\",\n",
    "        tooltip=str(row['Nota']) +\" - \" +str(row['Id']),\n",
    "        popup=str(row['Nota']) +\" - \" +str(row['Id']),\n",
    "        weight=1).add_to(mapa)\n",
    "\n",
    "    fol.Marker(\n",
    "        location=(row['location_lat'],row['location_long']), \n",
    "        tooltip=str(row['Nota']) +\" - \" +str(row['Id']),\n",
    "        popup=str(row['Nota']) +\" - \" +str(row['Id']),\n",
    "        icon=customIcon).add_to(mapa)\n",
    "    # try:\n",
    "    #     fol.Marker(location=(row['location_lat'],row['location_long']), tooltip=str(row['Nota']) +\" - \" +str(row['Id']),icon=icon).add_to(mapa)\n",
    "    # except ex:\n",
    "    #     continue\n",
    "\n",
    "mapa.save('index.html')\n",
    "# display(mapa)"
   ]
  }
 ],
 "metadata": {
  "kernelspec": {
   "display_name": "Python 3.10.1 64-bit",
   "language": "python",
   "name": "python3"
  },
  "language_info": {
   "codemirror_mode": {
    "name": "ipython",
    "version": 3
   },
   "file_extension": ".py",
   "mimetype": "text/x-python",
   "name": "python",
   "nbconvert_exporter": "python",
   "pygments_lexer": "ipython3",
   "version": "3.11.2"
  },
  "orig_nbformat": 4,
  "vscode": {
   "interpreter": {
    "hash": "369f2c481f4da34e4445cda3fffd2e751bd1c4d706f27375911949ba6bb62e1c"
   }
  }
 },
 "nbformat": 4,
 "nbformat_minor": 2
}
