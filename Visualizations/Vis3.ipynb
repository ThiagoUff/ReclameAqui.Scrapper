{
 "cells": [
  {
   "cell_type": "code",
   "execution_count": 1,
   "metadata": {},
   "outputs": [],
   "source": [
    "import pandas as pd\n",
    "import plotly.graph_objects as go\n",
    "\n",
    "from utils import filter_df"
   ]
  },
  {
   "cell_type": "code",
   "execution_count": 66,
   "metadata": {},
   "outputs": [
    {
     "data": {
      "text/plain": [
       "353052"
      ]
     },
     "execution_count": 66,
     "metadata": {},
     "output_type": "execute_result"
    }
   ],
   "source": [
    "df = pd.read_excel(\"dataset.xlsx\")\n",
    "\n",
    "df['Data_only'] = df['Data'].dt.date\n",
    "\n",
    "# df = df.dropna()\n",
    "\n",
    "# get_rows = df.head(1000)\n",
    "columns = list(df.columns)\n",
    "df.size"
   ]
  },
  {
   "cell_type": "code",
   "execution_count": 67,
   "metadata": {},
   "outputs": [],
   "source": [
    "categoria = df['Categoria'].unique().tolist()\n",
    "problema = df['Problema'].unique().tolist()\n",
    "produto = df['Produto'].unique().tolist()\n",
    "status = df['Status'].unique().tolist()\n",
    "# resolvido = df['Resolvido'].unique().tolist()\n",
    "# notaList = df['Nota'].unique().tolist()\n",
    "\n",
    "allItens = categoria + problema + produto + status \n",
    "\n",
    "# labels = categoria.count + problema.count + produto.count + status.count + resolvido.count + notaList.count\n",
    "\n",
    "origin = []\n",
    "dest = []\n",
    "value = []\n",
    "\n",
    "allItens\n",
    "\n",
    "def insertItem (indexOrigin, indexDest):\n",
    "    for originItem in origin:\n",
    "        if(originItem == indexOrigin):\n",
    "            for index in range(len(dest)):\n",
    "                if(dest[index] == indexDest):\n",
    "                    value[index]+= 1\n",
    "                    return\n",
    "    origin.append(indexOrigin)\n",
    "    dest.append(indexDest)\n",
    "    value.append(1)\n",
    "\n",
    "for index, row in df.iterrows():\n",
    "    catIndex = allItens.index(row['Categoria'])\n",
    "    probIndex = allItens.index(row['Problema'])\n",
    "    prodIndex = allItens.index(row['Produto'])\n",
    "    statIndex = allItens.index(row['Status'])\n",
    "    # resIndex = allItens.index(row['Resolvido'])\n",
    "    # notaIndex = allItens.index(row['Nota'])\n",
    "\n",
    "    insertItem(catIndex, probIndex)\n",
    "    insertItem(probIndex, prodIndex)\n",
    "    insertItem(prodIndex, statIndex)\n",
    "    # insertItem(statIndex, resIndex)\n",
    "    # insertItem(resIndex, notaIndex)\n",
    "\n",
    "    "
   ]
  },
  {
   "cell_type": "code",
   "execution_count": 68,
   "metadata": {},
   "outputs": [
    {
     "data": {
      "application/vnd.plotly.v1+json": {
       "config": {
        "plotlyServerURL": "https://plot.ly"
       },
       "data": [
        {
         "link": {
          "source": [
           0,
           12,
           60,
           0,
           13,
           60,
           1,
           14,
           60,
           60,
           1,
           15,
           60,
           2,
           14,
           14,
           62,
           15,
           63,
           0,
           16,
           3,
           17,
           64,
           4,
           14,
           65,
           1,
           18,
           1,
           5,
           1,
           20,
           67,
           5,
           68,
           5,
           69,
           1,
           21,
           13,
           70,
           0,
           22,
           0,
           23,
           2,
           24,
           1,
           25,
           14,
           71,
           0,
           26,
           6,
           14,
           72,
           7,
           0,
           27,
           8,
           5,
           73,
           0,
           28,
           2,
           29,
           9,
           30,
           74,
           16,
           75,
           0,
           31,
           1,
           32,
           2,
           33,
           0,
           34,
           2,
           35,
           13,
           76,
           14,
           77,
           0,
           36,
           15,
           78,
           10,
           12,
           79,
           20,
           80,
           0,
           37,
           22,
           81,
           0,
           38,
           0,
           39,
           0,
           40,
           0,
           41,
           3,
           42,
           3,
           43,
           11,
           8,
           44,
           0,
           45,
           3,
           46,
           0,
           47,
           3,
           48,
           8,
           49,
           3,
           50,
           0,
           51,
           0,
           52,
           8,
           53,
           8,
           54,
           0,
           55,
           0,
           56,
           0,
           57,
           3,
           58,
           0,
           59,
           12,
           82,
           12,
           83,
           32,
           84
          ],
          "target": [
           12,
           60,
           85,
           13,
           60,
           86,
           14,
           60,
           87,
           88,
           15,
           60,
           89,
           14,
           2,
           62,
           89,
           63,
           89,
           16,
           60,
           17,
           64,
           86,
           14,
           65,
           86,
           18,
           63,
           5,
           5,
           20,
           67,
           85,
           68,
           89,
           69,
           85,
           21,
           60,
           70,
           85,
           22,
           60,
           23,
           60,
           24,
           2,
           25,
           60,
           71,
           89,
           26,
           70,
           14,
           72,
           85,
           14,
           27,
           60,
           13,
           73,
           88,
           28,
           60,
           29,
           2,
           30,
           74,
           85,
           75,
           86,
           31,
           60,
           32,
           69,
           33,
           2,
           34,
           60,
           35,
           2,
           76,
           85,
           77,
           85,
           36,
           60,
           78,
           85,
           12,
           79,
           85,
           80,
           85,
           37,
           60,
           81,
           85,
           38,
           60,
           39,
           60,
           40,
           60,
           41,
           60,
           42,
           63,
           43,
           63,
           34,
           44,
           62,
           45,
           60,
           46,
           63,
           47,
           60,
           48,
           64,
           49,
           62,
           50,
           64,
           51,
           60,
           52,
           60,
           53,
           62,
           54,
           67,
           55,
           60,
           56,
           60,
           57,
           60,
           58,
           63,
           59,
           60,
           82,
           86,
           83,
           86,
           84,
           86
          ],
          "value": [
           1720,
           17574,
           17912,
           2828,
           1,
           3345,
           2750,
           1,
           522,
           1583,
           1938,
           1,
           1834,
           1,
           68,
           345,
           1,
           856,
           1,
           1722,
           1,
           446,
           724,
           1,
           1,
           31,
           1,
           1468,
           1,
           160,
           1,
           1001,
           228,
           1,
           186,
           1,
           2107,
           1,
           1501,
           1,
           334,
           1,
           697,
           1,
           818,
           1,
           304,
           1,
           196,
           1,
           25,
           1,
           450,
           1,
           1,
           3,
           1,
           1,
           328,
           1,
           1,
           25,
           1,
           137,
           1,
           231,
           1,
           171,
           1,
           1,
           1,
           1,
           595,
           1,
           271,
           1,
           1,
           1,
           112,
           1,
           133,
           1,
           14,
           1,
           2596,
           1,
           2604,
           1,
           21,
           1,
           1,
           2,
           1,
           1,
           1,
           637,
           1,
           1,
           1,
           413,
           1,
           306,
           1,
           178,
           1,
           112,
           1,
           127,
           1,
           119,
           1,
           1,
           102,
           1,
           88,
           1,
           82,
           1,
           80,
           1,
           67,
           1,
           53,
           1,
           45,
           1,
           44,
           1,
           38,
           1,
           30,
           1,
           32,
           1,
           27,
           1,
           25,
           1,
           18,
           1,
           18,
           1,
           16,
           1,
           1,
           1,
           1,
           1,
           1,
           1
          ]
         },
         "node": {
          "color": "blue",
          "label": [
           "Provedores e serv. de internet",
           "Não encontrei meu problema",
           "Telefonia fixa",
           "Problemas com o Atendimento",
           "Diversos",
           null,
           "Telefonia celular",
           "Celulares e Smartphones",
           "Problemas com o Site",
           "Serviços de câmbio e transferência de dinheiro",
           "Bancos",
           "Cartões de Crédito",
           "Propaganda enganosa",
           "Qualidade da internet",
           "Cobrança indevida",
           "Mau atendimento no SAC",
           "Cancelamento",
           "Cobrança duplicada",
           "Problemas na finalização da compra",
           null,
           "Dificuldade de cadastro",
           "Problema com equipamento fornecido",
           "Não consigo cancelar",
           "Mudança de plano",
           "Qualidade do serviço prestado",
           "Pagamento automático",
           "Instabilidade de sinal",
           "Valor abusivo",
           "Serasa-SPC",
           "Mau Atendimento",
           "Login-Senha",
           "Planos e tarifas",
           "Estorno do valor pago",
           "Qualidade do sinal",
           "Produto errado",
           "Mau atendimento do prestador de serviço",
           "Outro problema",
           "Site fora do ar-Lento",
           "Promoções",
           "Demora na execução",
           "Consumo da franquia",
           "Baixa Qualidade",
           "Não atende",
           "Demora no atendimento",
           "Emissão de boleto",
           "Atraso na entrega",
           "Não consigo fazer operação por telefone",
           "Divergência de valores",
           "Funcionários despreparados",
           "Segunda via de boleto",
           "Comportamento do profissional",
           "Forma de pagamento indisponível",
           "Produto indisponível",
           "Divergência de preço",
           "Atualização de dados cadastrais",
           "Fila para acessar o site",
           "Promoção",
           "Sorteios-Concursos",
           "Ligação finalizada",
           "Maquiagem de preço",
           "Internet para casa",
           "Telefonia fixa",
           "Pagamentos e Documentos",
           "Canais de Atendimento",
           "Equipe de Atendimento",
           "Problemas Gerais",
           null,
           "Acesso ao Cadastro",
           "Propaganda Enganosa",
           "Internet para computador",
           "Internet para celular",
           "Cadastro e Assinatura",
           "Celular",
           "Planos pós-pagos",
           "Cartão Pré-pago",
           "Planos pré-pagos",
           "Internet para tablet",
           "Outro Tipo de produto/Serviço",
           "Navegabilidade",
           "Cartão de débito",
           "Internet Banking",
           "Telefone",
           "Entrega",
           "Cartão de crédito",
           "Conta",
           "PENDING",
           "ANSWERED",
           "REPLY",
           "NOT_SOLVED",
           "SOLVED"
          ],
          "line": {
           "color": "black",
           "width": 0.5
          },
          "pad": 15,
          "thickness": 15
         },
         "type": "sankey",
         "valueformat": ".0f",
         "valuesuffix": "TWh"
        }
       ],
       "layout": {
        "font": {
         "size": 10
        },
        "template": {
         "data": {
          "bar": [
           {
            "error_x": {
             "color": "#2a3f5f"
            },
            "error_y": {
             "color": "#2a3f5f"
            },
            "marker": {
             "line": {
              "color": "#E5ECF6",
              "width": 0.5
             },
             "pattern": {
              "fillmode": "overlay",
              "size": 10,
              "solidity": 0.2
             }
            },
            "type": "bar"
           }
          ],
          "barpolar": [
           {
            "marker": {
             "line": {
              "color": "#E5ECF6",
              "width": 0.5
             },
             "pattern": {
              "fillmode": "overlay",
              "size": 10,
              "solidity": 0.2
             }
            },
            "type": "barpolar"
           }
          ],
          "carpet": [
           {
            "aaxis": {
             "endlinecolor": "#2a3f5f",
             "gridcolor": "white",
             "linecolor": "white",
             "minorgridcolor": "white",
             "startlinecolor": "#2a3f5f"
            },
            "baxis": {
             "endlinecolor": "#2a3f5f",
             "gridcolor": "white",
             "linecolor": "white",
             "minorgridcolor": "white",
             "startlinecolor": "#2a3f5f"
            },
            "type": "carpet"
           }
          ],
          "choropleth": [
           {
            "colorbar": {
             "outlinewidth": 0,
             "ticks": ""
            },
            "type": "choropleth"
           }
          ],
          "contour": [
           {
            "colorbar": {
             "outlinewidth": 0,
             "ticks": ""
            },
            "colorscale": [
             [
              0,
              "#0d0887"
             ],
             [
              0.1111111111111111,
              "#46039f"
             ],
             [
              0.2222222222222222,
              "#7201a8"
             ],
             [
              0.3333333333333333,
              "#9c179e"
             ],
             [
              0.4444444444444444,
              "#bd3786"
             ],
             [
              0.5555555555555556,
              "#d8576b"
             ],
             [
              0.6666666666666666,
              "#ed7953"
             ],
             [
              0.7777777777777778,
              "#fb9f3a"
             ],
             [
              0.8888888888888888,
              "#fdca26"
             ],
             [
              1,
              "#f0f921"
             ]
            ],
            "type": "contour"
           }
          ],
          "contourcarpet": [
           {
            "colorbar": {
             "outlinewidth": 0,
             "ticks": ""
            },
            "type": "contourcarpet"
           }
          ],
          "heatmap": [
           {
            "colorbar": {
             "outlinewidth": 0,
             "ticks": ""
            },
            "colorscale": [
             [
              0,
              "#0d0887"
             ],
             [
              0.1111111111111111,
              "#46039f"
             ],
             [
              0.2222222222222222,
              "#7201a8"
             ],
             [
              0.3333333333333333,
              "#9c179e"
             ],
             [
              0.4444444444444444,
              "#bd3786"
             ],
             [
              0.5555555555555556,
              "#d8576b"
             ],
             [
              0.6666666666666666,
              "#ed7953"
             ],
             [
              0.7777777777777778,
              "#fb9f3a"
             ],
             [
              0.8888888888888888,
              "#fdca26"
             ],
             [
              1,
              "#f0f921"
             ]
            ],
            "type": "heatmap"
           }
          ],
          "heatmapgl": [
           {
            "colorbar": {
             "outlinewidth": 0,
             "ticks": ""
            },
            "colorscale": [
             [
              0,
              "#0d0887"
             ],
             [
              0.1111111111111111,
              "#46039f"
             ],
             [
              0.2222222222222222,
              "#7201a8"
             ],
             [
              0.3333333333333333,
              "#9c179e"
             ],
             [
              0.4444444444444444,
              "#bd3786"
             ],
             [
              0.5555555555555556,
              "#d8576b"
             ],
             [
              0.6666666666666666,
              "#ed7953"
             ],
             [
              0.7777777777777778,
              "#fb9f3a"
             ],
             [
              0.8888888888888888,
              "#fdca26"
             ],
             [
              1,
              "#f0f921"
             ]
            ],
            "type": "heatmapgl"
           }
          ],
          "histogram": [
           {
            "marker": {
             "pattern": {
              "fillmode": "overlay",
              "size": 10,
              "solidity": 0.2
             }
            },
            "type": "histogram"
           }
          ],
          "histogram2d": [
           {
            "colorbar": {
             "outlinewidth": 0,
             "ticks": ""
            },
            "colorscale": [
             [
              0,
              "#0d0887"
             ],
             [
              0.1111111111111111,
              "#46039f"
             ],
             [
              0.2222222222222222,
              "#7201a8"
             ],
             [
              0.3333333333333333,
              "#9c179e"
             ],
             [
              0.4444444444444444,
              "#bd3786"
             ],
             [
              0.5555555555555556,
              "#d8576b"
             ],
             [
              0.6666666666666666,
              "#ed7953"
             ],
             [
              0.7777777777777778,
              "#fb9f3a"
             ],
             [
              0.8888888888888888,
              "#fdca26"
             ],
             [
              1,
              "#f0f921"
             ]
            ],
            "type": "histogram2d"
           }
          ],
          "histogram2dcontour": [
           {
            "colorbar": {
             "outlinewidth": 0,
             "ticks": ""
            },
            "colorscale": [
             [
              0,
              "#0d0887"
             ],
             [
              0.1111111111111111,
              "#46039f"
             ],
             [
              0.2222222222222222,
              "#7201a8"
             ],
             [
              0.3333333333333333,
              "#9c179e"
             ],
             [
              0.4444444444444444,
              "#bd3786"
             ],
             [
              0.5555555555555556,
              "#d8576b"
             ],
             [
              0.6666666666666666,
              "#ed7953"
             ],
             [
              0.7777777777777778,
              "#fb9f3a"
             ],
             [
              0.8888888888888888,
              "#fdca26"
             ],
             [
              1,
              "#f0f921"
             ]
            ],
            "type": "histogram2dcontour"
           }
          ],
          "mesh3d": [
           {
            "colorbar": {
             "outlinewidth": 0,
             "ticks": ""
            },
            "type": "mesh3d"
           }
          ],
          "parcoords": [
           {
            "line": {
             "colorbar": {
              "outlinewidth": 0,
              "ticks": ""
             }
            },
            "type": "parcoords"
           }
          ],
          "pie": [
           {
            "automargin": true,
            "type": "pie"
           }
          ],
          "scatter": [
           {
            "fillpattern": {
             "fillmode": "overlay",
             "size": 10,
             "solidity": 0.2
            },
            "type": "scatter"
           }
          ],
          "scatter3d": [
           {
            "line": {
             "colorbar": {
              "outlinewidth": 0,
              "ticks": ""
             }
            },
            "marker": {
             "colorbar": {
              "outlinewidth": 0,
              "ticks": ""
             }
            },
            "type": "scatter3d"
           }
          ],
          "scattercarpet": [
           {
            "marker": {
             "colorbar": {
              "outlinewidth": 0,
              "ticks": ""
             }
            },
            "type": "scattercarpet"
           }
          ],
          "scattergeo": [
           {
            "marker": {
             "colorbar": {
              "outlinewidth": 0,
              "ticks": ""
             }
            },
            "type": "scattergeo"
           }
          ],
          "scattergl": [
           {
            "marker": {
             "colorbar": {
              "outlinewidth": 0,
              "ticks": ""
             }
            },
            "type": "scattergl"
           }
          ],
          "scattermapbox": [
           {
            "marker": {
             "colorbar": {
              "outlinewidth": 0,
              "ticks": ""
             }
            },
            "type": "scattermapbox"
           }
          ],
          "scatterpolar": [
           {
            "marker": {
             "colorbar": {
              "outlinewidth": 0,
              "ticks": ""
             }
            },
            "type": "scatterpolar"
           }
          ],
          "scatterpolargl": [
           {
            "marker": {
             "colorbar": {
              "outlinewidth": 0,
              "ticks": ""
             }
            },
            "type": "scatterpolargl"
           }
          ],
          "scatterternary": [
           {
            "marker": {
             "colorbar": {
              "outlinewidth": 0,
              "ticks": ""
             }
            },
            "type": "scatterternary"
           }
          ],
          "surface": [
           {
            "colorbar": {
             "outlinewidth": 0,
             "ticks": ""
            },
            "colorscale": [
             [
              0,
              "#0d0887"
             ],
             [
              0.1111111111111111,
              "#46039f"
             ],
             [
              0.2222222222222222,
              "#7201a8"
             ],
             [
              0.3333333333333333,
              "#9c179e"
             ],
             [
              0.4444444444444444,
              "#bd3786"
             ],
             [
              0.5555555555555556,
              "#d8576b"
             ],
             [
              0.6666666666666666,
              "#ed7953"
             ],
             [
              0.7777777777777778,
              "#fb9f3a"
             ],
             [
              0.8888888888888888,
              "#fdca26"
             ],
             [
              1,
              "#f0f921"
             ]
            ],
            "type": "surface"
           }
          ],
          "table": [
           {
            "cells": {
             "fill": {
              "color": "#EBF0F8"
             },
             "line": {
              "color": "white"
             }
            },
            "header": {
             "fill": {
              "color": "#C8D4E3"
             },
             "line": {
              "color": "white"
             }
            },
            "type": "table"
           }
          ]
         },
         "layout": {
          "annotationdefaults": {
           "arrowcolor": "#2a3f5f",
           "arrowhead": 0,
           "arrowwidth": 1
          },
          "autotypenumbers": "strict",
          "coloraxis": {
           "colorbar": {
            "outlinewidth": 0,
            "ticks": ""
           }
          },
          "colorscale": {
           "diverging": [
            [
             0,
             "#8e0152"
            ],
            [
             0.1,
             "#c51b7d"
            ],
            [
             0.2,
             "#de77ae"
            ],
            [
             0.3,
             "#f1b6da"
            ],
            [
             0.4,
             "#fde0ef"
            ],
            [
             0.5,
             "#f7f7f7"
            ],
            [
             0.6,
             "#e6f5d0"
            ],
            [
             0.7,
             "#b8e186"
            ],
            [
             0.8,
             "#7fbc41"
            ],
            [
             0.9,
             "#4d9221"
            ],
            [
             1,
             "#276419"
            ]
           ],
           "sequential": [
            [
             0,
             "#0d0887"
            ],
            [
             0.1111111111111111,
             "#46039f"
            ],
            [
             0.2222222222222222,
             "#7201a8"
            ],
            [
             0.3333333333333333,
             "#9c179e"
            ],
            [
             0.4444444444444444,
             "#bd3786"
            ],
            [
             0.5555555555555556,
             "#d8576b"
            ],
            [
             0.6666666666666666,
             "#ed7953"
            ],
            [
             0.7777777777777778,
             "#fb9f3a"
            ],
            [
             0.8888888888888888,
             "#fdca26"
            ],
            [
             1,
             "#f0f921"
            ]
           ],
           "sequentialminus": [
            [
             0,
             "#0d0887"
            ],
            [
             0.1111111111111111,
             "#46039f"
            ],
            [
             0.2222222222222222,
             "#7201a8"
            ],
            [
             0.3333333333333333,
             "#9c179e"
            ],
            [
             0.4444444444444444,
             "#bd3786"
            ],
            [
             0.5555555555555556,
             "#d8576b"
            ],
            [
             0.6666666666666666,
             "#ed7953"
            ],
            [
             0.7777777777777778,
             "#fb9f3a"
            ],
            [
             0.8888888888888888,
             "#fdca26"
            ],
            [
             1,
             "#f0f921"
            ]
           ]
          },
          "colorway": [
           "#636efa",
           "#EF553B",
           "#00cc96",
           "#ab63fa",
           "#FFA15A",
           "#19d3f3",
           "#FF6692",
           "#B6E880",
           "#FF97FF",
           "#FECB52"
          ],
          "font": {
           "color": "#2a3f5f"
          },
          "geo": {
           "bgcolor": "white",
           "lakecolor": "white",
           "landcolor": "#E5ECF6",
           "showlakes": true,
           "showland": true,
           "subunitcolor": "white"
          },
          "hoverlabel": {
           "align": "left"
          },
          "hovermode": "closest",
          "mapbox": {
           "style": "light"
          },
          "paper_bgcolor": "white",
          "plot_bgcolor": "#E5ECF6",
          "polar": {
           "angularaxis": {
            "gridcolor": "white",
            "linecolor": "white",
            "ticks": ""
           },
           "bgcolor": "#E5ECF6",
           "radialaxis": {
            "gridcolor": "white",
            "linecolor": "white",
            "ticks": ""
           }
          },
          "scene": {
           "xaxis": {
            "backgroundcolor": "#E5ECF6",
            "gridcolor": "white",
            "gridwidth": 2,
            "linecolor": "white",
            "showbackground": true,
            "ticks": "",
            "zerolinecolor": "white"
           },
           "yaxis": {
            "backgroundcolor": "#E5ECF6",
            "gridcolor": "white",
            "gridwidth": 2,
            "linecolor": "white",
            "showbackground": true,
            "ticks": "",
            "zerolinecolor": "white"
           },
           "zaxis": {
            "backgroundcolor": "#E5ECF6",
            "gridcolor": "white",
            "gridwidth": 2,
            "linecolor": "white",
            "showbackground": true,
            "ticks": "",
            "zerolinecolor": "white"
           }
          },
          "shapedefaults": {
           "line": {
            "color": "#2a3f5f"
           }
          },
          "ternary": {
           "aaxis": {
            "gridcolor": "white",
            "linecolor": "white",
            "ticks": ""
           },
           "baxis": {
            "gridcolor": "white",
            "linecolor": "white",
            "ticks": ""
           },
           "bgcolor": "#E5ECF6",
           "caxis": {
            "gridcolor": "white",
            "linecolor": "white",
            "ticks": ""
           }
          },
          "title": {
           "x": 0.05
          },
          "xaxis": {
           "automargin": true,
           "gridcolor": "white",
           "linecolor": "white",
           "ticks": "",
           "title": {
            "standoff": 15
           },
           "zerolinecolor": "white",
           "zerolinewidth": 2
          },
          "yaxis": {
           "automargin": true,
           "gridcolor": "white",
           "linecolor": "white",
           "ticks": "",
           "title": {
            "standoff": 15
           },
           "zerolinecolor": "white",
           "zerolinewidth": 2
          }
         }
        },
        "title": {
         "text": "Basic Sankey Diagram"
        }
       }
      }
     },
     "metadata": {},
     "output_type": "display_data"
    }
   ],
   "source": [
    "fig = go.Figure(data=[go.Sankey(\n",
    "    valueformat = \".0f\",\n",
    "    valuesuffix = \"TWh\",\n",
    "    node = dict(\n",
    "      pad = 15,\n",
    "      thickness = 15,\n",
    "      line = dict(color = \"black\", width = 0.5),\n",
    "      label = allItens,\n",
    "      color = \"blue\"\n",
    "    ),\n",
    "    link = dict(\n",
    "      source = origin, # indices correspond to labels, eg A1, A2, A1, B1, ...\n",
    "      target = dest,\n",
    "      value = value\n",
    "  ))])\n",
    "\n",
    "fig.update_layout(title_text=\"Basic Sankey Diagram\", font_size=10)\n",
    "fig.show()"
   ]
  }
 ],
 "metadata": {
  "kernelspec": {
   "display_name": "Python 3.10.6 64-bit",
   "language": "python",
   "name": "python3"
  },
  "language_info": {
   "codemirror_mode": {
    "name": "ipython",
    "version": 3
   },
   "file_extension": ".py",
   "mimetype": "text/x-python",
   "name": "python",
   "nbconvert_exporter": "python",
   "pygments_lexer": "ipython3",
   "version": "3.10.6"
  },
  "orig_nbformat": 4,
  "vscode": {
   "interpreter": {
    "hash": "916dbcbb3f70747c44a77c7bcd40155683ae19c65e1c03b4aa3499c5328201f1"
   }
  }
 },
 "nbformat": 4,
 "nbformat_minor": 2
}
